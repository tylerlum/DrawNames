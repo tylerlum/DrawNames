{
 "cells": [
  {
   "cell_type": "code",
   "execution_count": 11,
   "metadata": {},
   "outputs": [],
   "source": [
    "import random\n",
    "from copy import deepcopy\n",
    "\n",
    "########### Low level functions ##########\n",
    "## Get random name from list\n",
    "def get_random_name(list):\n",
    "    index = random.randrange(0, len(list))\n",
    "    return list[index]\n",
    "\n",
    "## Remove name from list\n",
    "def remove_name_from_list(list, remove_name):\n",
    "    shortened_list = deepcopy(list)\n",
    "    if remove_name in shortened_list:\n",
    "        shortened_list.remove(remove_name)\n",
    "    return shortened_list\n",
    "\n",
    "## Check if assignments work\n",
    "def check_assignments(assignment_dict1, assignment_dict2):\n",
    "    for key in assignment_dict1:\n",
    "        if (assignment_dict1[key] == assignment_dict2[key]):\n",
    "            return False\n",
    "    return True    \n",
    "    \n",
    "########### High level functions ##########\n",
    "def get_name_assignment(full_name_list, assignment_dict):\n",
    "    recipient_list = deepcopy(full_name_list)\n",
    "    \n",
    "    ## Assign recipients\n",
    "    for i in range(0, len(full_name_list)):\n",
    "        ## Get buyer\n",
    "        buyer = full_name_list[i]\n",
    "\n",
    "        ## If recipient list only has buyer left, then failed\n",
    "        shortened_list = remove_name_from_list(recipient_list, buyer)\n",
    "        if (len(shortened_list) == 0):\n",
    "            assignment_dict = {}\n",
    "            return False\n",
    "        \n",
    "        ## Get random recipient, excluding buyer\n",
    "        recipient = get_random_name(shortened_list)\n",
    "\n",
    "        ## Remove recipient from recipient list\n",
    "        recipient_list.remove(recipient)\n",
    "\n",
    "        ## Add buyer-> recipient pair\n",
    "        assignment_dict[buyer] = recipient\n",
    "    return True"
   ]
  },
  {
   "cell_type": "code",
   "execution_count": 14,
   "metadata": {},
   "outputs": [
    {
     "name": "stdout",
     "output_type": "stream",
     "text": [
      "Email sent\n"
     ]
    }
   ],
   "source": [
    "import smtplib\n",
    "\n",
    "## Send email\n",
    "def sendEmail(TO, SUBJECT, TEXT, USER= \"learningpython640@gmail.com\", PASSWORD= \"ilearnpython\"):\n",
    "    ## Setup email content\n",
    "    to = [TO]\n",
    "    email_text = \"\"\"\\\n",
    "    From: %s  \n",
    "    To: %s  \n",
    "    Subject: %s\n",
    "\n",
    "    %s\n",
    "    \"\"\" % (USER, \", \".join(to), SUBJECT, TEXT)\n",
    "    \n",
    "    ## Setup Server connection\n",
    "    try:\n",
    "        server = smtplib.SMTP_SSL('smtp.gmail.com', 465)\n",
    "        server.ehlo()\n",
    "        server.login(USER, PASSWORD)\n",
    "        server.sendmail(USER, to, email_text)\n",
    "        server.close()\n",
    "\n",
    "        print(\"Email sent\")\n",
    "    except:\n",
    "        print(\"Something went wrong\")\n",
    "        \n",
    "sendEmail(\"tylergwlum@gmail.com\", \"OMG Super Important Message\", \"Miss you dude\")"
   ]
  },
  {
   "cell_type": "code",
   "execution_count": 12,
   "metadata": {},
   "outputs": [
    {
     "name": "stdout",
     "output_type": "stream",
     "text": [
      "{'Tyler': 'Kent', 'Nancy': 'Tyler', 'Jenny': 'Sandy', 'Sandy': 'Peter', 'Kent': 'Jenny', 'Peter': 'Nancy'}\n",
      "{'Tyler': 'Sandy', 'Nancy': 'Peter', 'Jenny': 'Nancy', 'Sandy': 'Kent', 'Kent': 'Tyler', 'Peter': 'Jenny'}\n",
      "{'Tyler': ['Kent', 'Sandy'], 'Nancy': ['Tyler', 'Peter'], 'Jenny': ['Sandy', 'Nancy'], 'Sandy': ['Peter', 'Kent'], 'Kent': ['Jenny', 'Tyler'], 'Peter': ['Nancy', 'Jenny']}\n"
     ]
    }
   ],
   "source": [
    "########### Program ##########\n",
    "NAME_LIST = [\"Tyler\", \"Nancy\", \"Jenny\", \"Sandy\", \"Kent\", \"Peter\"]  # do not change\n",
    "assignment_dict1 = {}\n",
    "success = False\n",
    "while(not success):\n",
    "    success = get_name_assignment(NAME_LIST, assignment_dict1)\n",
    "\n",
    "assignment_dict2 = {}\n",
    "while(True):\n",
    "    success = False\n",
    "    while(not success):\n",
    "        success = get_name_assignment(NAME_LIST, assignment_dict2)\n",
    "    if (check_assignments(assignment_dict1, assignment_dict2)):\n",
    "        break\n",
    "\n",
    "print(assignment_dict1)\n",
    "print(assignment_dict2)\n",
    "\n",
    "final_assignment_dict = {}\n",
    "for key in assignment_dict1:\n",
    "    list = [assignment_dict1[key], assignment_dict2[key]]\n",
    "    final_assignment_dict[key] = list\n",
    "print(final_assignment_dict)"
   ]
  }
 ],
 "metadata": {
  "kernelspec": {
   "display_name": "Python 3",
   "language": "python",
   "name": "python3"
  },
  "language_info": {
   "codemirror_mode": {
    "name": "ipython",
    "version": 3
   },
   "file_extension": ".py",
   "mimetype": "text/x-python",
   "name": "python",
   "nbconvert_exporter": "python",
   "pygments_lexer": "ipython3",
   "version": "3.6.4"
  }
 },
 "nbformat": 4,
 "nbformat_minor": 2
}
