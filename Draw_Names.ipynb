{
  "nbformat": 4,
  "nbformat_minor": 0,
  "metadata": {
    "kernelspec": {
      "display_name": "Python 3",
      "language": "python",
      "name": "python3"
    },
    "language_info": {
      "codemirror_mode": {
        "name": "ipython",
        "version": 3
      },
      "file_extension": ".py",
      "mimetype": "text/x-python",
      "name": "python",
      "nbconvert_exporter": "python",
      "pygments_lexer": "ipython3",
      "version": "3.6.4"
    },
    "colab": {
      "name": "Draw Names.ipynb",
      "provenance": [],
      "collapsed_sections": [],
      "include_colab_link": true
    }
  },
  "cells": [
    {
      "cell_type": "markdown",
      "metadata": {
        "id": "view-in-github",
        "colab_type": "text"
      },
      "source": [
        "<a href=\"https://colab.research.google.com/github/tylerlum/DrawNames/blob/master/Draw_Names.ipynb\" target=\"_parent\"><img src=\"https://colab.research.google.com/assets/colab-badge.svg\" alt=\"Open In Colab\"/></a>"
      ]
    },
    {
      "cell_type": "markdown",
      "metadata": {
        "id": "SbXNYzQ1nBZw",
        "colab_type": "text"
      },
      "source": [
        "# Draw Names\n",
        "\n",
        "Customize-able Secret Santa Name List Generator\n",
        "\n",
        "The purpose of this script is to:\n",
        "\n",
        "* Assign buyers and receivers for Secret Santa events. The user can specify the number of presents that each buyer should be buying, and the program will ensure that no buyer draws the same name twice.\n",
        "\n",
        "* Send emails to all Secret Santa participants telling them who to buy a present for.\n",
        "\n",
        "* Draw a Christmas tree and include it in the email for festivity. The Christmas tree is a String of the following characters: [, ], =, ~.\n",
        "\n",
        "\n",
        "How to Use: The easiest way to use this code is to use Jupyter Notebook or Google Colab notebook. Then you can customize the email settings and names and then run all!"
      ]
    },
    {
      "cell_type": "markdown",
      "metadata": {
        "id": "Gr8bZSVpm-Ru",
        "colab_type": "text"
      },
      "source": [
        "## Dependencies and Functions\n",
        "\n"
      ]
    },
    {
      "cell_type": "code",
      "metadata": {
        "id": "WhL5kNkRm4Km",
        "colab_type": "code",
        "colab": {}
      },
      "source": [
        "import random\n",
        "from copy import deepcopy, copy\n",
        "import smtplib"
      ],
      "execution_count": 0,
      "outputs": []
    },
    {
      "cell_type": "markdown",
      "metadata": {
        "id": "Fs9Q8t1ynU1m",
        "colab_type": "text"
      },
      "source": [
        "### Low Level Functions for Drawing Names"
      ]
    },
    {
      "cell_type": "code",
      "metadata": {
        "id": "3W7Qe3qek1IO",
        "colab_type": "code",
        "colab": {}
      },
      "source": [
        "def remove_name_from_list(name_list, remove_name):\n",
        "    \"\"\"Return deep copy of name_list with remove_name removed\n",
        "    \n",
        "    If remove_names not in name_list, returns a deepcopy of name_list\n",
        "    \"\"\"\n",
        "    shortened_list = deepcopy(name_list)\n",
        "    if remove_name in shortened_list:\n",
        "        shortened_list.remove(remove_name)\n",
        "    return shortened_list\n",
        "\n",
        "def is_valid_assignment(recipient_by_buyer_list):\n",
        "    \"\"\"Check if assignments are valid.\n",
        "    \n",
        "    Assignments are valid if (for every buyer), (their recipients are unique, no repeats)\n",
        "    If recipient_by_buyer_list is empty, returns True\n",
        "    \"\"\"\n",
        "    for buyer in recipient_by_buyer_list[0]:\n",
        "        recipients = [recipient_by_buyer_list[i][buyer] for i in range(len(recipient_by_buyer_list))]\n",
        "        if any(recipients.count(recipient) > 1 for recipient in recipients):\n",
        "          return False\n",
        "    return True    \n",
        "\n",
        "def convert_recipient_by_buyer_list_to_recipients_by_buyer(recipient_by_buyer_list):\n",
        "    \"\"\"convert_recipient_by_buyer_list_to_recipients_by_buyer\n",
        "    list(dict(buyer, recipient)) => dict(buyer, list(recipient))\n",
        "    \n",
        "    Requires: recipient_by_buyer_list not empty\n",
        "    \"\"\"\n",
        "    ## Setup final dict and first assignment\n",
        "    recipients_by_buyer = {}\n",
        "    \n",
        "    ## Combine the recipients of each buyer\n",
        "    for buyer in recipient_by_buyer_list[0]:\n",
        "        recipients = []\n",
        "        for recipient_by_buyer in recipient_by_buyer_list:\n",
        "            recipients.append(recipient_by_buyer[buyer])\n",
        "        recipients_by_buyer[buyer] = recipients\n",
        "    return recipients_by_buyer\n",
        "    \n",
        "def get_one_new_recipient_per_buyer(recipient_by_buyer_list, full_name_list):\n",
        "    \"\"\"Create a new recipient_by_buyer, with no repeats.\n",
        "    \n",
        "    No repeats means that a buyer won't buy for the same person more than once\n",
        "    \"\"\"\n",
        "    while(True):\n",
        "        new_recipient_by_buyer = draw_names_one_recipient_per_buyer(full_name_list)\n",
        "        new_recipient_by_buyer_list = deepcopy(recipient_by_buyer_list)\n",
        "        new_recipient_by_buyer_list.append(new_recipient_by_buyer)\n",
        "        if (is_valid_assignment(new_recipient_by_buyer_list)):\n",
        "            return new_recipient_by_buyer"
      ],
      "execution_count": 0,
      "outputs": []
    },
    {
      "cell_type": "markdown",
      "metadata": {
        "id": "FPmEjmktnaqF",
        "colab_type": "text"
      },
      "source": [
        "### High Level Functions for Drawing Names"
      ]
    },
    {
      "cell_type": "code",
      "metadata": {
        "id": "I5fefJkXndPJ",
        "colab_type": "code",
        "colab": {}
      },
      "source": [
        "def try_draw_names_one_recipient_per_buyer(full_name_list, assignment_dict):\n",
        "    \"\"\"Try to assign each buyer one recipient\n",
        "    \n",
        "    Modifies assignment_dict\n",
        "    \n",
        "    Returns True if successful, otherwise returns False\n",
        "    \"\"\"\n",
        "    recipient_list = deepcopy(full_name_list)\n",
        "    \n",
        "    for buyer in full_name_list:\n",
        "        ## If no available recipients, then failed\n",
        "        available_recipients = remove_name_from_list(recipient_list, buyer)\n",
        "        if (len(available_recipients) == 0):\n",
        "            assignment_dict = {}\n",
        "            return False\n",
        "        \n",
        "        ## Get random available recipient\n",
        "        recipient = random.choice(available_recipients)\n",
        "\n",
        "        ## Remove recipient from recipient list\n",
        "        recipient_list.remove(recipient)\n",
        "\n",
        "        ## Add buyer -> recipient pair\n",
        "        assignment_dict[buyer] = recipient\n",
        "    return True\n",
        "\n",
        "def draw_names_one_recipient_per_buyer(full_name_list):\n",
        "    \"\"\"Assign each buyer one recipient\"\"\"\n",
        "    success = False\n",
        "    while (not success):\n",
        "        assignment_dict = {}\n",
        "        success = try_draw_names_one_recipient_per_buyer(full_name_list, assignment_dict)\n",
        "    return assignment_dict\n",
        "        \n",
        "def draw_names(full_name_list, recipients_per_buyer):\n",
        "    \"\"\"Assign each buyer n distinct recipients (n = recipients_per_buyer)\n",
        "    \n",
        "    Done such that each person gets n gifts.\n",
        "    \n",
        "    Requires n > 0\n",
        "    \"\"\"\n",
        "    ## Draw names for one recipient per buyer\n",
        "    recipient_by_buyer_1 = draw_names_one_recipient_per_buyer(full_name_list)\n",
        "\n",
        "    ## Continuously draw names, getting one more recipient per buyer each loop\n",
        "    recipient_by_buyer_list = [recipient_by_buyer_1]\n",
        "    while (len(recipient_by_buyer_list) < recipients_per_buyer):\n",
        "        new_recipient_by_buyer = get_one_new_recipient_per_buyer(recipient_by_buyer_list, full_name_list)\n",
        "        recipient_by_buyer_list.append(new_recipient_by_buyer)\n",
        "\n",
        "    ## Put Assignments together\n",
        "    recipients_by_buyer = convert_recipient_by_buyer_list_to_recipients_by_buyer(recipient_by_buyer_list)\n",
        "    \n",
        "    return recipients_by_buyer"
      ],
      "execution_count": 0,
      "outputs": []
    },
    {
      "cell_type": "markdown",
      "metadata": {
        "id": "OqDcGBocn-TE",
        "colab_type": "text"
      },
      "source": [
        "### Function for sending emails"
      ]
    },
    {
      "cell_type": "code",
      "metadata": {
        "id": "N77u5tKOk1Ic",
        "colab_type": "code",
        "colab": {}
      },
      "source": [
        "########### Sending Email ##########\n",
        "def send_email(TO, SUBJECT, BODY, USER = \"learningpython640@gmail.com\", PASSWORD = \"ilearnpython\"):\n",
        "\n",
        "    email_text = \"\"\"\\\n",
        "From: %s  \n",
        "To: %s  \n",
        "Subject: %s\n",
        "\n",
        "%s\n",
        "\"\"\" % (USER, \", \".join(TO), SUBJECT, BODY)\n",
        "\n",
        "    try:\n",
        "        server = smtplib.SMTP_SSL('smtp.gmail.com', 465)\n",
        "        server.ehlo()\n",
        "        server.login(USER, PASSWORD)\n",
        "        server.sendmail(USER, TO, email_text)\n",
        "        server.close()\n",
        "\n",
        "        print(\"Email sent\")\n",
        "    except:\n",
        "        print(\"Something went wrong\")"
      ],
      "execution_count": 0,
      "outputs": []
    },
    {
      "cell_type": "markdown",
      "metadata": {
        "id": "bu1_4XF7oIU1",
        "colab_type": "text"
      },
      "source": [
        "### Function for making trees"
      ]
    },
    {
      "cell_type": "code",
      "metadata": {
        "id": "BKl50YJsk1In",
        "colab_type": "code",
        "colab": {}
      },
      "source": [
        "def make_tree(n,s):\n",
        "    \"\"\"Returns string representing a tree\"\"\"\n",
        "    tree = \"\"\n",
        "    for i in range(n):\n",
        "        for a in range(n-i):\n",
        "            tree = tree + \" \"\n",
        "        tree = tree + \"[\"\n",
        "        ## Added reduce length to half the width (didn't look good on email)\n",
        "        reduce_length = 0\n",
        "        for l in range(i<<1):\n",
        "            if i==n-1:\n",
        "                reduce_length = reduce_length + 1\n",
        "                if reduce_length % 2 == 0:\n",
        "                    tree = tree + \"_\"\n",
        "            else:\n",
        "                reduce_length = reduce_length + 1\n",
        "                if reduce_length % 2 == 0:\n",
        "                    tree = tree + \"~\"\n",
        "        tree = tree + \"]\\n\"\n",
        "    for o in range(s):\n",
        "        for i in range(n):\n",
        "            tree = tree + \" \"\n",
        "        tree = tree + \"[]\\n\"\n",
        "    return tree"
      ],
      "execution_count": 0,
      "outputs": []
    },
    {
      "cell_type": "markdown",
      "metadata": {
        "id": "AjN9rU8F6JYD",
        "colab_type": "text"
      },
      "source": [
        "### Helper print function"
      ]
    },
    {
      "cell_type": "code",
      "metadata": {
        "id": "imdCu36Ok1Iy",
        "colab_type": "code",
        "colab": {}
      },
      "source": [
        "def show_dict(dict):\n",
        "    \"\"\"Output Dictionary Content into String\"\"\"\n",
        "    dict_output = \"\"\n",
        "    for key in dict:\n",
        "        dict_output = dict_output + \"{0}: {1}\\n\".format(key, dict[key])\n",
        "    return dict_output"
      ],
      "execution_count": 0,
      "outputs": []
    },
    {
      "cell_type": "markdown",
      "metadata": {
        "id": "mrxEwSLvzoZg",
        "colab_type": "text"
      },
      "source": [
        "## Testing"
      ]
    },
    {
      "cell_type": "markdown",
      "metadata": {
        "id": "ASVVOdN55Lk3",
        "colab_type": "text"
      },
      "source": [
        "### Testing Methods"
      ]
    },
    {
      "cell_type": "code",
      "metadata": {
        "id": "KN6BuJELzn7D",
        "colab_type": "code",
        "colab": {}
      },
      "source": [
        "def is_valid_drawn_names(recipients_by_buyer, recipients_per_buyer):\n",
        "    return (buyer_has_unique_recipients(recipients_by_buyer) and each_person_gets_equal_number_of_gifts(recipients_by_buyer, recipients_per_buyer)\n",
        "            and each_buyer_buys_correct_number_of_gifts(recipients_by_buyer, recipients_per_buyer) and no_buyer_buys_for_themselves(recipients_by_buyer))\n",
        "  \n",
        "def buyer_has_unique_recipients(recipients_by_buyer):\n",
        "    for buyer, recipients in recipients_by_buyer.items():\n",
        "        if any(recipients.count(recipient) > 1 for recipient in recipients):\n",
        "            return False\n",
        "    return True\n",
        "\n",
        "  \n",
        "def each_person_gets_equal_number_of_gifts(recipients_by_buyer, recipients_per_buyer):\n",
        "    names = recipients_by_buyer.keys()\n",
        "    for name in names:\n",
        "        num_gifts = 0\n",
        "        for buyer, recipients in recipients_by_buyer.items():\n",
        "            if name in recipients:\n",
        "                num_gifts += 1\n",
        "        if not num_gifts == recipients_per_buyer:\n",
        "          return False\n",
        "    return True\n",
        "  \n",
        "def each_buyer_buys_correct_number_of_gifts(recipients_by_buyer, recipients_per_buyer):\n",
        "    for buyer, recipients in recipients_by_buyer.items():\n",
        "        if not len(recipients) == recipients_per_buyer:\n",
        "            return False\n",
        "    return True\n",
        "\n",
        "def no_buyer_buys_for_themselves(recipients_by_buyer):\n",
        "    for buyer in recipients_by_buyer:\n",
        "        if buyer in recipients_by_buyer[buyer]:\n",
        "            return False\n",
        "    return True"
      ],
      "execution_count": 0,
      "outputs": []
    },
    {
      "cell_type": "markdown",
      "metadata": {
        "id": "HtuVziko2uSm",
        "colab_type": "text"
      },
      "source": [
        "### Run Validation Tests"
      ]
    },
    {
      "cell_type": "code",
      "metadata": {
        "id": "wXjV9BEK2t9Y",
        "colab_type": "code",
        "colab": {
          "base_uri": "https://localhost:8080/",
          "height": 34
        },
        "outputId": "32c1da31-e05f-4dd5-a7f2-c718f05b8c54"
      },
      "source": [
        "TEST_NUM_TESTS = 20\n",
        "TEST_NAMES = ['Ben', 'Aaron', 'Joel', 'Angela', 'Zoe', 'Ken']\n",
        "TEST_RECIPIENTS_PER_BUYER_MIN = 1\n",
        "TEST_RECIPIENTS_PER_BUYER_MAX = 4\n",
        "passed = True\n",
        "for recipients_per_buyer in range(TEST_RECIPIENTS_PER_BUYER_MIN, TEST_RECIPIENTS_PER_BUYER_MAX):\n",
        "    for test_num in range(TEST_NUM_TESTS):\n",
        "        test_results = draw_names(TEST_NAMES, recipients_per_buyer)\n",
        "        if not is_valid_drawn_names(test_results, recipients_per_buyer):\n",
        "            passed = False\n",
        "            print(\"FAILED TEST {0} with {1} recipients_per_buyer.\".format(test_num, recipients_per_buyer))\n",
        "            \n",
        "if passed:\n",
        "    print(\"Passed {0} tests :)\".format(TEST_NUM_TESTS * (TEST_RECIPIENTS_PER_BUYER_MAX - TEST_RECIPIENTS_PER_BUYER_MIN + 1)))"
      ],
      "execution_count": 39,
      "outputs": [
        {
          "output_type": "stream",
          "text": [
            "Passed 80 tests :)\n"
          ],
          "name": "stdout"
        }
      ]
    },
    {
      "cell_type": "markdown",
      "metadata": {
        "id": "_eqqPVSM4gX6",
        "colab_type": "text"
      },
      "source": [
        "## Example Usage"
      ]
    },
    {
      "cell_type": "code",
      "metadata": {
        "id": "KOr58qgo5c1e",
        "colab_type": "code",
        "colab": {
          "base_uri": "https://localhost:8080/",
          "height": 89
        },
        "outputId": "c0a546bf-3aad-4d55-d4d1-5cdacbac8ef5"
      },
      "source": [
        "EXAMPLE_NAMES = ['Ben', 'Aaron', 'Joel', 'Angela', 'Zoe', 'Ken']\n",
        "EXAMPLE_RECIPIENTS_PER_BUYER = 3\n",
        "\n",
        "EXAMPLE_RECIPIENTS_BY_BUYER = draw_names(EXAMPLE_NAMES, EXAMPLE_RECIPIENTS_PER_BUYER)\n",
        "\n",
        "print(\"Example drawn names: {}\\n\".format(EXAMPLE_RECIPIENTS_BY_BUYER))\n",
        "print(\"Is this a valid assignment? {}\".format(is_valid_drawn_names(EXAMPLE_RECIPIENTS_BY_BUYER, EXAMPLE_RECIPIENTS_PER_BUYER)))"
      ],
      "execution_count": 42,
      "outputs": [
        {
          "output_type": "stream",
          "text": [
            "Example drawn names: {'Ben': ['Angela', 'Ken', 'Zoe'], 'Aaron': ['Ben', 'Joel', 'Angela'], 'Joel': ['Ken', 'Angela', 'Aaron'], 'Angela': ['Aaron', 'Zoe', 'Ben'], 'Zoe': ['Joel', 'Aaron', 'Ken'], 'Ken': ['Zoe', 'Ben', 'Joel']}\n",
            "\n",
            "Is this a valid assignment? True\n"
          ],
          "name": "stdout"
        }
      ]
    },
    {
      "cell_type": "code",
      "metadata": {
        "id": "uELDFFEcqjXS",
        "colab_type": "code",
        "colab": {}
      },
      "source": [
        "## Setup emails and names\n",
        "EMAILS_BY_NAME = {\"Tyler\": \"tylergwlum@gmail.com\", \"Nancy\": \"Naan\", \"Jenny\": \"Jenitals\", \"Sandy\": \"Sandpaper\", \"Peter\": \"Bowflexer\", \"Kent\": \"Yucatan\"}\n",
        "NICKNAMES_BY_NAME = {\"Tyler\": \"Turdeep\", \"Nancy\": \"nancygylum@gmail.com\", \"Jenny\": \"jennlums@gmail.com\", \"Sandy\": \"sandygmlum@gmail.com\", \"Kent\": \"sio.kent@gmail.com\", \"Peter\": \"wang.peter91@gmail.com\"}\n",
        "NAMES = list(EMAILS_BY_NAME.keys())\n",
        "RECIPIENTS_PER_BUYER = 2\n",
        "\n",
        "## Get assignment\n",
        "recipients_by_buyer_name = draw_names(NAMES, RECIPIENTS_PER_BUYER)"
      ],
      "execution_count": 0,
      "outputs": []
    },
    {
      "cell_type": "markdown",
      "metadata": {
        "id": "SHoNnMZzmrjQ",
        "colab_type": "text"
      },
      "source": [
        "## Main Program"
      ]
    },
    {
      "cell_type": "code",
      "metadata": {
        "id": "Jj_Nx8RVk1I9",
        "colab_type": "code",
        "colab": {},
        "outputId": "d84f9c25-f2e6-46d1-afbc-82e6eef12169"
      },
      "source": [
        "## Setup emails and names\n",
        "EMAILS_BY_NAME = {\"Tyler\": \"tylergwlum@gmail.com\", \"Nancy\": \"Naan\", \"Jenny\": \"Jenitals\", \"Sandy\": \"Sandpaper\", \"Peter\": \"Bowflexer\", \"Kent\": \"Yucatan\"}\n",
        "NICKNAMES_BY_NAME = {\"Tyler\": \"Turdeep\", \"Nancy\": \"nancygylum@gmail.com\", \"Jenny\": \"jennlums@gmail.com\", \"Sandy\": \"sandygmlum@gmail.com\", \"Kent\": \"sio.kent@gmail.com\", \"Peter\": \"wang.peter91@gmail.com\"}\n",
        "NAMES = list(EMAILS_BY_NAME.keys())\n",
        "RECIPIENTS_PER_BUYER = 6\n",
        "\n",
        "## Get assignment\n",
        "recipients_by_buyer_name = get_name_assignments(NAMES, RECIPIENTS_PER_BUYER)\n",
        "\n",
        "## Send emails\n",
        "for buyer_name in recipients_by_buyer_name:\n",
        "    recipients = recipients_by_buyer_name[buyer_name]\n",
        "    \n",
        "    ## Get nicknames\n",
        "    buyer_nickname = NICKNAMES_BY_NAME[buyer_name]\n",
        "    recipient_nicknames = [NICKNAMES_BY_NAME[recipient] for recipient in recipients]\n",
        "    \n",
        "    ## Write email body\n",
        "    email_body = \"Hi {0}! You will be buying a lovely present for: \".format(buyer_nickname)\n",
        "    for i, recipient_nickname in enumerate(recipient_nicknames):\n",
        "      email_body += recipient_nickname\n",
        "      if i != len(recipient_nicknames) - 1:\n",
        "        email_body += \" and \"\n",
        "    \n",
        "    email_body += \". :)\"\n",
        "    \n",
        "    ## From statement\n",
        "    email_body = email_body + \"\\n\\n-Tyler Bot\"\n",
        "    \n",
        "    ## Nickname explanation\n",
        "    email_body = email_body + \"\\n\\nNICKNAMES:\\n{0}\".format(show_dict(NICKNAMES))\n",
        "    \n",
        "    ## Add tree\n",
        "    email_body = email_body + \"\\n\\n\" + make_tree(11, 3)\n",
        "    \n",
        "    ## Subject\n",
        "    subject = \"Sibling Secret Santa Draw Trial Run 1\"\n",
        "\n",
        "    print(email_body)\n",
        "    #send_email([EMAILS_BY_NAME[key]], subject, email_body)\n",
        "    \n",
        "## Send email of actual draw to hidden email\n",
        "#send_email([\"learningpython640@gmail.com\"], \"Sibling Secret Santa Real List\", \"{0}\".format(full_assignment_list))"
      ],
      "execution_count": 0,
      "outputs": [
        {
          "output_type": "error",
          "ename": "KeyboardInterrupt",
          "evalue": "",
          "traceback": [
            "\u001b[1;31m---------------------------------------------------------------------------\u001b[0m",
            "\u001b[1;31mKeyboardInterrupt\u001b[0m                         Traceback (most recent call last)",
            "\u001b[1;32m<ipython-input-25-6cc2cacc086e>\u001b[0m in \u001b[0;36m<module>\u001b[1;34m()\u001b[0m\n\u001b[0;32m      8\u001b[0m \u001b[1;33m\u001b[0m\u001b[0m\n\u001b[0;32m      9\u001b[0m \u001b[1;31m## Get assignment\u001b[0m\u001b[1;33m\u001b[0m\u001b[1;33m\u001b[0m\u001b[0m\n\u001b[1;32m---> 10\u001b[1;33m \u001b[0mfull_assignment_list\u001b[0m \u001b[1;33m=\u001b[0m \u001b[0mget_name_assignments\u001b[0m\u001b[1;33m(\u001b[0m\u001b[0mNAME_LIST\u001b[0m\u001b[1;33m,\u001b[0m \u001b[0mrecipients_per_buyer\u001b[0m\u001b[1;33m)\u001b[0m\u001b[1;33m\u001b[0m\u001b[0m\n\u001b[0m\u001b[0;32m     11\u001b[0m \u001b[1;33m\u001b[0m\u001b[0m\n\u001b[0;32m     12\u001b[0m \u001b[1;31m## Send emails\u001b[0m\u001b[1;33m\u001b[0m\u001b[1;33m\u001b[0m\u001b[0m\n",
            "\u001b[1;32m<ipython-input-17-883bc2f0e9cc>\u001b[0m in \u001b[0;36mget_name_assignments\u001b[1;34m(full_name_list, recipients_per_buyer)\u001b[0m\n\u001b[0;32m     97\u001b[0m     \u001b[0mlist_of_dicts\u001b[0m \u001b[1;33m=\u001b[0m \u001b[1;33m[\u001b[0m\u001b[0massignment_dict_1\u001b[0m\u001b[1;33m]\u001b[0m\u001b[1;33m\u001b[0m\u001b[0m\n\u001b[0;32m     98\u001b[0m     \u001b[1;32mwhile\u001b[0m \u001b[1;33m(\u001b[0m\u001b[0mlen\u001b[0m\u001b[1;33m(\u001b[0m\u001b[0mlist_of_dicts\u001b[0m\u001b[1;33m)\u001b[0m \u001b[1;33m<\u001b[0m \u001b[0mrecipients_per_buyer\u001b[0m\u001b[1;33m)\u001b[0m\u001b[1;33m:\u001b[0m\u001b[1;33m\u001b[0m\u001b[0m\n\u001b[1;32m---> 99\u001b[1;33m         \u001b[0mlist_of_dicts\u001b[0m \u001b[1;33m=\u001b[0m \u001b[0madd_new_assignment\u001b[0m\u001b[1;33m(\u001b[0m\u001b[0mlist_of_dicts\u001b[0m\u001b[1;33m,\u001b[0m \u001b[0mfull_name_list\u001b[0m\u001b[1;33m)\u001b[0m\u001b[1;33m\u001b[0m\u001b[0m\n\u001b[0m\u001b[0;32m    100\u001b[0m \u001b[1;33m\u001b[0m\u001b[0m\n\u001b[0;32m    101\u001b[0m     \u001b[1;31m## Put Assignments together\u001b[0m\u001b[1;33m\u001b[0m\u001b[1;33m\u001b[0m\u001b[0m\n",
            "\u001b[1;32m<ipython-input-17-883bc2f0e9cc>\u001b[0m in \u001b[0;36madd_new_assignment\u001b[1;34m(list_of_dicts, full_name_list)\u001b[0m\n\u001b[0;32m     48\u001b[0m \u001b[1;32mdef\u001b[0m \u001b[0madd_new_assignment\u001b[0m\u001b[1;33m(\u001b[0m\u001b[0mlist_of_dicts\u001b[0m\u001b[1;33m,\u001b[0m \u001b[0mfull_name_list\u001b[0m\u001b[1;33m)\u001b[0m\u001b[1;33m:\u001b[0m\u001b[1;33m\u001b[0m\u001b[0m\n\u001b[0;32m     49\u001b[0m     \u001b[1;32mwhile\u001b[0m\u001b[1;33m(\u001b[0m\u001b[1;32mTrue\u001b[0m\u001b[1;33m)\u001b[0m\u001b[1;33m:\u001b[0m\u001b[1;33m\u001b[0m\u001b[0m\n\u001b[1;32m---> 50\u001b[1;33m         \u001b[0mtemp_ass_dict\u001b[0m \u001b[1;33m=\u001b[0m \u001b[0mget_name_assignment\u001b[0m\u001b[1;33m(\u001b[0m\u001b[0mfull_name_list\u001b[0m\u001b[1;33m)\u001b[0m\u001b[1;33m\u001b[0m\u001b[0m\n\u001b[0m\u001b[0;32m     51\u001b[0m         \u001b[0mtemp_list_of_dicts\u001b[0m \u001b[1;33m=\u001b[0m \u001b[0mdeepcopy\u001b[0m\u001b[1;33m(\u001b[0m\u001b[0mlist_of_dicts\u001b[0m\u001b[1;33m)\u001b[0m\u001b[1;33m\u001b[0m\u001b[0m\n\u001b[0;32m     52\u001b[0m         \u001b[0mtemp_list_of_dicts\u001b[0m\u001b[1;33m.\u001b[0m\u001b[0mappend\u001b[0m\u001b[1;33m(\u001b[0m\u001b[0mtemp_ass_dict\u001b[0m\u001b[1;33m)\u001b[0m\u001b[1;33m\u001b[0m\u001b[0m\n",
            "\u001b[1;32m<ipython-input-17-883bc2f0e9cc>\u001b[0m in \u001b[0;36mget_name_assignment\u001b[1;34m(full_name_list)\u001b[0m\n\u001b[0;32m     85\u001b[0m     \u001b[1;32mwhile\u001b[0m \u001b[1;33m(\u001b[0m\u001b[1;32mnot\u001b[0m \u001b[0msuccess\u001b[0m\u001b[1;33m)\u001b[0m\u001b[1;33m:\u001b[0m\u001b[1;33m\u001b[0m\u001b[0m\n\u001b[0;32m     86\u001b[0m         \u001b[0massignment_dict\u001b[0m \u001b[1;33m=\u001b[0m \u001b[1;33m{\u001b[0m\u001b[1;33m}\u001b[0m\u001b[1;33m\u001b[0m\u001b[0m\n\u001b[1;32m---> 87\u001b[1;33m         \u001b[0msuccess\u001b[0m \u001b[1;33m=\u001b[0m \u001b[0mtry_get_name_assignment\u001b[0m\u001b[1;33m(\u001b[0m\u001b[0mfull_name_list\u001b[0m\u001b[1;33m,\u001b[0m \u001b[0massignment_dict\u001b[0m\u001b[1;33m)\u001b[0m\u001b[1;33m\u001b[0m\u001b[0m\n\u001b[0m\u001b[0;32m     88\u001b[0m     \u001b[1;32mreturn\u001b[0m \u001b[0massignment_dict\u001b[0m\u001b[1;33m\u001b[0m\u001b[0m\n\u001b[0;32m     89\u001b[0m \u001b[1;33m\u001b[0m\u001b[0m\n",
            "\u001b[1;32m<ipython-input-17-883bc2f0e9cc>\u001b[0m in \u001b[0;36mtry_get_name_assignment\u001b[1;34m(full_name_list, assignment_dict)\u001b[0m\n\u001b[0;32m     77\u001b[0m \u001b[1;33m\u001b[0m\u001b[0m\n\u001b[0;32m     78\u001b[0m         \u001b[1;31m## Add buyer-> recipient pair\u001b[0m\u001b[1;33m\u001b[0m\u001b[1;33m\u001b[0m\u001b[0m\n\u001b[1;32m---> 79\u001b[1;33m         \u001b[0massignment_dict\u001b[0m\u001b[1;33m[\u001b[0m\u001b[0mbuyer\u001b[0m\u001b[1;33m]\u001b[0m \u001b[1;33m=\u001b[0m \u001b[0mrecipient\u001b[0m\u001b[1;33m\u001b[0m\u001b[0m\n\u001b[0m\u001b[0;32m     80\u001b[0m     \u001b[1;32mreturn\u001b[0m \u001b[1;32mTrue\u001b[0m\u001b[1;33m\u001b[0m\u001b[0m\n\u001b[0;32m     81\u001b[0m \u001b[1;33m\u001b[0m\u001b[0m\n",
            "\u001b[1;31mKeyboardInterrupt\u001b[0m: "
          ]
        }
      ]
    }
  ]
}