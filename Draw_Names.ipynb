{
 "cells": [
  {
   "cell_type": "markdown",
   "metadata": {
    "colab_type": "text",
    "id": "view-in-github"
   },
   "source": [
    "<a href=\"https://colab.research.google.com/github/tylerlum/DrawNames/blob/master/Draw_Names.ipynb\" target=\"_parent\"><img src=\"https://colab.research.google.com/assets/colab-badge.svg\" alt=\"Open In Colab\"/></a>"
   ]
  },
  {
   "cell_type": "markdown",
   "metadata": {
    "colab_type": "text",
    "id": "SbXNYzQ1nBZw"
   },
   "source": [
    "# Draw Names\n",
    "\n",
    "Customizable Secret Santa Name List Generator\n",
    "\n",
    "## Overview\n",
    "\n",
    "The purpose of this script is to:\n",
    "\n",
    "* Assign each buyer a list of gift receivers for Secret Santa events. The user can specify the number of presents that each buyer should be buying, and the program will ensure that no buyer draws the same name twice.\n",
    "\n",
    "* Send emails to all Secret Santa participants telling them who to buy a present for.\n",
    "\n",
    "* Draw a Christmas tree and include it in the email for festivity. The Christmas tree is a String of the following characters: [, ], =, ~.\n",
    "\n",
    "## How To Use\n",
    "\n",
    "* The easiest way to use this code is to use a Jupyter Notebook on a local machine (may encounter issues sending emails from a Google Colab notebook).\n",
    "\n",
    "* Then you can customize `NAME_TO_EMAIL_DICT` and `NAME_TO_NICKNAME_DICT` to have the emails and nicknames you want (make sure they all have the same real names).\n",
    "\n",
    "* Next, you will need to have an email used to send the gift assignments out. If this is a gmail account, this account will need an app password, as gmail has updated its security guidelines. Instructions to get an app password can be found [here](https://support.google.com/mail/answer/185833?hl=en-GB) or by searching \"Sign in using app passwords\" on Google.\n",
    "\n",
    "* Lastly, run all cells and input the email and app password when prompted."
   ]
  },
  {
   "cell_type": "markdown",
   "metadata": {
    "colab_type": "text",
    "id": "Gr8bZSVpm-Ru"
   },
   "source": [
    "## Dependencies and Functions\n",
    "\n"
   ]
  },
  {
   "cell_type": "code",
   "execution_count": 1,
   "metadata": {
    "ExecuteTime": {
     "end_time": "2022-11-02T18:48:16.752952Z",
     "start_time": "2022-11-02T18:48:16.749667Z"
    },
    "colab": {},
    "colab_type": "code",
    "id": "WhL5kNkRm4Km"
   },
   "outputs": [],
   "source": [
    "import random\n",
    "from copy import deepcopy\n",
    "import smtplib\n",
    "import datetime"
   ]
  },
  {
   "cell_type": "markdown",
   "metadata": {
    "colab_type": "text",
    "id": "Fs9Q8t1ynU1m"
   },
   "source": [
    "### Low Level Functions for Drawing Names"
   ]
  },
  {
   "cell_type": "code",
   "execution_count": 2,
   "metadata": {
    "ExecuteTime": {
     "end_time": "2022-11-02T18:48:16.759466Z",
     "start_time": "2022-11-02T18:48:16.753992Z"
    },
    "colab": {},
    "colab_type": "code",
    "id": "3W7Qe3qek1IO"
   },
   "outputs": [],
   "source": [
    "def is_valid_assignment(buyer_to_recipient_dicts):\n",
    "    \"\"\"Check if assignments are valid.\n",
    "\n",
    "    Assignments are valid if (for every buyer), (their recipients are unique, no repeats)\n",
    "    If buyer_to_recipient_dicts is empty, returns True\n",
    "    \"\"\"\n",
    "    first_buyer_to_recipient_dict = buyer_to_recipient_dicts[0]\n",
    "    buyers = list(first_buyer_to_recipient_dict.keys())\n",
    "    for buyer in buyers:\n",
    "        recipients = [buyer_to_recipient_dict[buyer] for buyer_to_recipient_dict in buyer_to_recipient_dicts]\n",
    "        if any(recipients.count(recipient) > 1 for recipient in recipients):\n",
    "            return False\n",
    "    return True\n",
    "\n",
    "\n",
    "def convert_key_to_val_dicts_into_key_to_vals_dict(key_to_val_dicts):\n",
    "    \"\"\"\n",
    "    convert_key_to_val_dicts_into_key_to_vals_dict\n",
    "    list(dict(key, val)) => dict(key, list(vals))\n",
    "    \"\"\"\n",
    "    # Empty list => empty dict\n",
    "    if len(key_to_val_dicts) == 0:\n",
    "        return {}\n",
    "\n",
    "    # Ensure that all dicts have the same keys\n",
    "    keys = list(key_to_val_dicts[0].keys())\n",
    "    for key_to_val_dict in key_to_val_dicts:\n",
    "        assert(set(keys) == set(key_to_val_dict.keys()))\n",
    "\n",
    "    # Create new dict\n",
    "    key_to_vals_dict = {}\n",
    "    for key in keys:\n",
    "        key_to_vals_dict[key] = [key_to_val_dict[key]\n",
    "                                 for key_to_val_dict in key_to_val_dicts]\n",
    "    return key_to_vals_dict\n",
    "\n",
    "\n",
    "def add_one_new_recipient_per_buyer(buyer_to_recipient_dicts, full_name_list):\n",
    "    \"\"\"Create a new buyer_to_recipient_dict, with no repeats.\n",
    "\n",
    "    No repeats means that a buyer won't buy for the same person more than once\n",
    "    \"\"\"\n",
    "    MAX_NUM_TRIES = 1000\n",
    "    for _ in range(MAX_NUM_TRIES):\n",
    "        # Create new dict\n",
    "        new_buyer_to_recipient_dict = draw_names_one_recipient_per_buyer(full_name_list)\n",
    "\n",
    "        # Check if it worked\n",
    "        new_buyer_to_recipient_dicts = deepcopy(buyer_to_recipient_dicts)\n",
    "        new_buyer_to_recipient_dicts.append(new_buyer_to_recipient_dict)\n",
    "        if (is_valid_assignment(new_buyer_to_recipient_dicts)):\n",
    "            # Worked, add to list\n",
    "            buyer_to_recipient_dicts.append(new_buyer_to_recipient_dict)\n",
    "            return\n",
    "\n",
    "    raise ValueError(\"Unable to add one new recipient per buyer after {0} tries\".format(MAX_NUM_TRIES))"
   ]
  },
  {
   "cell_type": "markdown",
   "metadata": {
    "colab_type": "text",
    "id": "FPmEjmktnaqF"
   },
   "source": [
    "### High Level Functions for Drawing Names"
   ]
  },
  {
   "cell_type": "code",
   "execution_count": 3,
   "metadata": {
    "ExecuteTime": {
     "end_time": "2022-11-02T18:48:16.765237Z",
     "start_time": "2022-11-02T18:48:16.760788Z"
    },
    "colab": {},
    "colab_type": "code",
    "id": "I5fefJkXndPJ"
   },
   "outputs": [],
   "source": [
    "def try_draw_names_one_recipient_per_buyer(full_name_list):\n",
    "    \"\"\"Try to assign each buyer one recipient\n",
    "\n",
    "    Returns empty dict if unsuccessful\n",
    "    \"\"\"\n",
    "    recipient_list = list(full_name_list)\n",
    "    assignment_dict = {}\n",
    "\n",
    "    for buyer in full_name_list:\n",
    "        # If no available recipients, then failed\n",
    "        available_recipients = [name for name in recipient_list if name != buyer]\n",
    "        if (len(available_recipients) == 0):\n",
    "            return {}\n",
    "\n",
    "        # Get random available recipient\n",
    "        recipient = random.choice(available_recipients)\n",
    "\n",
    "        # Remove recipient from recipient list\n",
    "        recipient_list.remove(recipient)\n",
    "\n",
    "        # Add buyer -> recipient pair\n",
    "        assignment_dict[buyer] = recipient\n",
    "    return assignment_dict\n",
    "\n",
    "\n",
    "def draw_names_one_recipient_per_buyer(full_name_list):\n",
    "    \"\"\"Assign each buyer one recipient\"\"\"\n",
    "    assignment_dict = {}\n",
    "    while len(assignment_dict) == 0:\n",
    "        assignment_dict = try_draw_names_one_recipient_per_buyer(full_name_list)\n",
    "    return assignment_dict\n",
    "\n",
    "\n",
    "def draw_names(full_name_list, recipients_per_buyer):\n",
    "    \"\"\"Assign each buyer n distinct recipients (n = recipients_per_buyer)\n",
    "\n",
    "    Done such that each person gets n gifts.\n",
    "\n",
    "    Requires n > 0\n",
    "    \"\"\"\n",
    "\n",
    "    # Check valid input\n",
    "    if recipients_per_buyer >= len(full_name_list):\n",
    "        print(\"Too many recipients per buyer\")\n",
    "        return\n",
    "    if recipients_per_buyer < 1:\n",
    "        print(\"Too few recipients per buyer\")\n",
    "        return\n",
    "\n",
    "    # Continuously draw names, getting one more recipient per buyer each loop\n",
    "    buyer_to_recipient_dicts = []\n",
    "    while (len(buyer_to_recipient_dicts) < recipients_per_buyer):\n",
    "        add_one_new_recipient_per_buyer(buyer_to_recipient_dicts, full_name_list)\n",
    "\n",
    "    # Put Assignments together\n",
    "    buyer_to_recipients_dict = convert_key_to_val_dicts_into_key_to_vals_dict(buyer_to_recipient_dicts)\n",
    "\n",
    "    return buyer_to_recipients_dict"
   ]
  },
  {
   "cell_type": "markdown",
   "metadata": {
    "colab_type": "text",
    "id": "OqDcGBocn-TE"
   },
   "source": [
    "### Function for sending emails"
   ]
  },
  {
   "cell_type": "code",
   "execution_count": 4,
   "metadata": {
    "ExecuteTime": {
     "end_time": "2022-11-02T18:48:16.769206Z",
     "start_time": "2022-11-02T18:48:16.766126Z"
    },
    "colab": {},
    "colab_type": "code",
    "id": "N77u5tKOk1Ic"
   },
   "outputs": [],
   "source": [
    "########### Sending Email ##########\n",
    "def send_email(TO, SUBJECT, BODY, USER, PASSWORD):\n",
    "\n",
    "    email_text = \"\"\"\\\n",
    "From: %s  \n",
    "To: %s  \n",
    "Subject: %s\n",
    "\n",
    "%s\n",
    "\"\"\" % (USER, \", \".join(TO), SUBJECT, BODY)\n",
    "\n",
    "    try:\n",
    "        server = smtplib.SMTP_SSL('smtp.gmail.com', 465)\n",
    "        server.ehlo()\n",
    "        server.login(USER, PASSWORD)\n",
    "        server.sendmail(USER, TO, email_text)\n",
    "        server.close()\n",
    "\n",
    "        print(\"Email sent\")\n",
    "    except Exception as e:\n",
    "        print(\"Something went wrong\")\n",
    "        print(e)"
   ]
  },
  {
   "cell_type": "markdown",
   "metadata": {
    "colab_type": "text",
    "id": "bu1_4XF7oIU1"
   },
   "source": [
    "### Function for making trees"
   ]
  },
  {
   "cell_type": "code",
   "execution_count": 5,
   "metadata": {
    "ExecuteTime": {
     "end_time": "2022-11-02T18:48:16.773926Z",
     "start_time": "2022-11-02T18:48:16.770509Z"
    },
    "colab": {},
    "colab_type": "code",
    "id": "BKl50YJsk1In"
   },
   "outputs": [],
   "source": [
    "def make_tree(n, s):\n",
    "    \"\"\"Returns string representing a tree\"\"\"\n",
    "    tree = \"\"\n",
    "    for i in range(n):\n",
    "        for a in range(n-i):\n",
    "            tree = tree + \" \"\n",
    "        tree = tree + \"[\"\n",
    "        # Added reduce length to half the width (didn't look good on email)\n",
    "        reduce_length = 0\n",
    "        for l in range(i << 1):\n",
    "            if i == n-1:\n",
    "                reduce_length = reduce_length + 1\n",
    "                if reduce_length % 2 == 0:\n",
    "                    # tree = tree + \"_\"  # This leads to inconsistent sizing in some emails\n",
    "                    tree = tree + \"~\"\n",
    "            else:\n",
    "                reduce_length = reduce_length + 1\n",
    "                if reduce_length % 2 == 0:\n",
    "                    tree = tree + \"~\"\n",
    "        tree = tree + \"]\\n\"\n",
    "    for o in range(s):\n",
    "        for i in range(n):\n",
    "            tree = tree + \" \"\n",
    "        tree = tree + \"[]\\n\"\n",
    "    return tree"
   ]
  },
  {
   "cell_type": "markdown",
   "metadata": {
    "colab_type": "text",
    "id": "AjN9rU8F6JYD"
   },
   "source": [
    "### Helper print function"
   ]
  },
  {
   "cell_type": "code",
   "execution_count": 6,
   "metadata": {
    "ExecuteTime": {
     "end_time": "2022-11-02T18:48:16.777003Z",
     "start_time": "2022-11-02T18:48:16.774811Z"
    },
    "colab": {},
    "colab_type": "code",
    "id": "imdCu36Ok1Iy"
   },
   "outputs": [],
   "source": [
    "def show_dict(dict):\n",
    "    \"\"\"Output Dictionary Content into String\"\"\"\n",
    "    return \"\\n\".join([\"{0}: {1}\".format(key, value) for key, value in dict.items()])"
   ]
  },
  {
   "cell_type": "code",
   "execution_count": 7,
   "metadata": {
    "ExecuteTime": {
     "end_time": "2022-11-02T18:48:16.779665Z",
     "start_time": "2022-11-02T18:48:16.777888Z"
    },
    "colab": {},
    "colab_type": "code",
    "id": "Z7jvqBEX7ywo"
   },
   "outputs": [],
   "source": [
    "def str_with_ands_between(names):\n",
    "    return \" and \".join(names)"
   ]
  },
  {
   "cell_type": "markdown",
   "metadata": {
    "colab_type": "text",
    "id": "mrxEwSLvzoZg"
   },
   "source": [
    "## Testing"
   ]
  },
  {
   "cell_type": "markdown",
   "metadata": {
    "colab_type": "text",
    "id": "ASVVOdN55Lk3"
   },
   "source": [
    "### Testing Methods"
   ]
  },
  {
   "cell_type": "code",
   "execution_count": 8,
   "metadata": {
    "ExecuteTime": {
     "end_time": "2022-11-02T18:48:16.785342Z",
     "start_time": "2022-11-02T18:48:16.780485Z"
    },
    "colab": {},
    "colab_type": "code",
    "id": "KN6BuJELzn7D"
   },
   "outputs": [],
   "source": [
    "def is_valid_drawn_names(buyer_to_recipients_dict, recipients_per_buyer):\n",
    "    return (buyer_has_unique_recipients(buyer_to_recipients_dict) and each_person_gets_equal_number_of_gifts(buyer_to_recipients_dict, recipients_per_buyer)\n",
    "            and each_buyer_buys_correct_number_of_gifts(buyer_to_recipients_dict, recipients_per_buyer) and no_buyer_buys_for_themselves(buyer_to_recipients_dict))\n",
    "\n",
    "\n",
    "def buyer_has_unique_recipients(buyer_to_recipients_dict):\n",
    "    for recipients in buyer_to_recipients_dict.values():\n",
    "        if any(recipients.count(recipient) > 1 for recipient in recipients):\n",
    "            return False\n",
    "    return True\n",
    "\n",
    "\n",
    "def each_person_gets_equal_number_of_gifts(buyer_to_recipients_dict, recipients_per_buyer):\n",
    "    names = buyer_to_recipients_dict.keys()\n",
    "    for name in names:\n",
    "        num_gifts = 0\n",
    "        for recipients in buyer_to_recipients_dict.values():\n",
    "            if name in recipients:\n",
    "                num_gifts += 1\n",
    "        if not num_gifts == recipients_per_buyer:\n",
    "            return False\n",
    "    return True\n",
    "\n",
    "\n",
    "def each_buyer_buys_correct_number_of_gifts(buyer_to_recipients_dict, recipients_per_buyer):\n",
    "    for recipients in buyer_to_recipients_dict.values():\n",
    "        if not len(recipients) == recipients_per_buyer:\n",
    "            return False\n",
    "    return True\n",
    "\n",
    "\n",
    "def no_buyer_buys_for_themselves(buyer_to_recipients_dict):\n",
    "    for buyer in buyer_to_recipients_dict:\n",
    "        if buyer in buyer_to_recipients_dict[buyer]:\n",
    "            return False\n",
    "    return True"
   ]
  },
  {
   "cell_type": "markdown",
   "metadata": {
    "colab_type": "text",
    "id": "HtuVziko2uSm"
   },
   "source": [
    "### Run Validation Tests"
   ]
  },
  {
   "cell_type": "code",
   "execution_count": 9,
   "metadata": {
    "ExecuteTime": {
     "end_time": "2022-11-02T18:48:16.803871Z",
     "start_time": "2022-11-02T18:48:16.787071Z"
    },
    "colab": {
     "base_uri": "https://localhost:8080/",
     "height": 34
    },
    "colab_type": "code",
    "id": "wXjV9BEK2t9Y",
    "outputId": "b673b60e-b801-4818-a89d-fe8d6c8a09fd"
   },
   "outputs": [
    {
     "name": "stdout",
     "output_type": "stream",
     "text": [
      "Passed 80 tests :)\n"
     ]
    }
   ],
   "source": [
    "TEST_NUM_TESTS = 20\n",
    "TEST_NAMES = ['Ben', 'Aaron', 'Joel', 'Angela', 'Zoe', 'Ken']\n",
    "TEST_RECIPIENTS_PER_BUYER_MIN = 1\n",
    "TEST_RECIPIENTS_PER_BUYER_MAX = 4\n",
    "passed = True\n",
    "for recipients_per_buyer in range(TEST_RECIPIENTS_PER_BUYER_MIN, TEST_RECIPIENTS_PER_BUYER_MAX):\n",
    "    for test_num in range(TEST_NUM_TESTS):\n",
    "        test_results = draw_names(TEST_NAMES, recipients_per_buyer)\n",
    "        if not is_valid_drawn_names(test_results, recipients_per_buyer):\n",
    "            passed = False\n",
    "            print(\"FAILED TEST {0} with {1} recipients_per_buyer.\".format(test_num, recipients_per_buyer))\n",
    "\n",
    "if passed:\n",
    "    print(\"Passed {0} tests :)\".format(TEST_NUM_TESTS *\n",
    "          (TEST_RECIPIENTS_PER_BUYER_MAX - TEST_RECIPIENTS_PER_BUYER_MIN + 1)))"
   ]
  },
  {
   "cell_type": "markdown",
   "metadata": {
    "colab_type": "text",
    "id": "_eqqPVSM4gX6"
   },
   "source": [
    "## Example Usage"
   ]
  },
  {
   "cell_type": "code",
   "execution_count": 10,
   "metadata": {
    "ExecuteTime": {
     "end_time": "2022-11-02T18:48:16.808875Z",
     "start_time": "2022-11-02T18:48:16.805060Z"
    },
    "colab": {
     "base_uri": "https://localhost:8080/",
     "height": 89
    },
    "colab_type": "code",
    "id": "KOr58qgo5c1e",
    "outputId": "8f62b922-7a47-4422-860f-80ddafafb364"
   },
   "outputs": [
    {
     "name": "stdout",
     "output_type": "stream",
     "text": [
      "Example drawn names: {'Ben': ['Aaron', 'Ken', 'Joel'], 'Aaron': ['Ben', 'Angela', 'Ken'], 'Joel': ['Zoe', 'Aaron', 'Angela'], 'Angela': ['Joel', 'Ben', 'Zoe'], 'Zoe': ['Ken', 'Joel', 'Aaron'], 'Ken': ['Angela', 'Zoe', 'Ben']}\n",
      "\n",
      "Is this a valid assignment? True\n"
     ]
    }
   ],
   "source": [
    "EXAMPLE_NAMES = ['Ben', 'Aaron', 'Joel', 'Angela', 'Zoe', 'Ken']\n",
    "EXAMPLE_RECIPIENTS_PER_BUYER = 3\n",
    "\n",
    "EXAMPLE_BUYER_TO_RECIPIENTS_DICT = draw_names(EXAMPLE_NAMES, EXAMPLE_RECIPIENTS_PER_BUYER)\n",
    "\n",
    "print(\"Example drawn names: {}\\n\".format(EXAMPLE_BUYER_TO_RECIPIENTS_DICT))\n",
    "print(\"Is this a valid assignment? {}\".format(is_valid_drawn_names(\n",
    "    EXAMPLE_BUYER_TO_RECIPIENTS_DICT, EXAMPLE_RECIPIENTS_PER_BUYER)))"
   ]
  },
  {
   "cell_type": "markdown",
   "metadata": {
    "colab_type": "text",
    "id": "SHoNnMZzmrjQ"
   },
   "source": [
    "## Main Program\n",
    "\n",
    "Steps:\n",
    "\n",
    "1. Fill in NAME_TO_EMAIL_DICT and NAME_TO_NICKNAME_DICT\n",
    "\n",
    "2. Fill in RECIPIENTS_PER_BUYER\n",
    "\n",
    "Run both cells"
   ]
  },
  {
   "cell_type": "code",
   "execution_count": null,
   "metadata": {
    "ExecuteTime": {
     "end_time": "2022-11-02T18:47:31.432213Z",
     "start_time": "2022-11-02T18:46:56.296788Z"
    },
    "colab": {
     "base_uri": "https://localhost:8080/",
     "height": 69
    },
    "colab_type": "code",
    "id": "uELDFFEcqjXS",
    "outputId": "624ab317-37b8-4c40-dc05-f237d2b4787e"
   },
   "outputs": [],
   "source": [
    "# Setup emails and names\n",
    "NAME_TO_EMAIL_DICT = {\"Tyler\": \"tylergwlum@gmail.com\",\n",
    "                      'OtherTyler': \"pythoncoderdude@gmail.com\", }\n",
    "NAME_TO_NICKNAME_DICT = {\"Tyler\": \"Tygertron\",\n",
    "                         'OtherTyler': 'SwoleDude', }\n",
    "EMAIL_USED_TO_SEND = input(\"Enter the email address you will use to send gift assignments: \")\n",
    "APP_PASSWORD = input(\"Enter the app password for {0}: \".format(EMAIL_USED_TO_SEND))\n",
    "NAMES = list(NAME_TO_EMAIL_DICT.keys())\n",
    "RECIPIENTS_PER_BUYER = 1\n",
    "\n",
    "# Get assignment\n",
    "buyer_to_recipients_dict = draw_names(NAMES, RECIPIENTS_PER_BUYER)\n",
    "print(\"Names have been drawn!\\n\")\n",
    "print(\"Is this a valid assignment? {}\".format(is_valid_drawn_names(buyer_to_recipients_dict, RECIPIENTS_PER_BUYER)))"
   ]
  },
  {
   "cell_type": "code",
   "execution_count": null,
   "metadata": {
    "ExecuteTime": {
     "end_time": "2022-11-02T18:47:39.941351Z",
     "start_time": "2022-11-02T18:47:35.335138Z"
    },
    "colab": {},
    "colab_type": "code",
    "id": "Jj_Nx8RVk1I9"
   },
   "outputs": [],
   "source": [
    "# Send emails\n",
    "for buyer in buyer_to_recipients_dict:\n",
    "    recipients = buyer_to_recipients_dict[buyer]\n",
    "\n",
    "    # Get nicknames\n",
    "    buyer_nickname = NAME_TO_NICKNAME_DICT[buyer]\n",
    "    recipient_nicknames = [NAME_TO_NICKNAME_DICT[recipient] for recipient in recipients]\n",
    "\n",
    "    # Write email body\n",
    "    email_body = \"Hi {0}! You will be buying a lovely present for: {1}. :)\".format(\n",
    "        buyer_nickname, str_with_ands_between(recipient_nicknames))\n",
    "\n",
    "    # From statement\n",
    "    email_body = email_body + \"\\n\\n-Tyler Bot\"\n",
    "\n",
    "    # Nickname explanation\n",
    "    email_body = email_body + \"\\n\\nNICKNAMES:\\n{0}\".format(show_dict(NAME_TO_NICKNAME_DICT))\n",
    "\n",
    "    # Add tree\n",
    "    email_body = email_body + \"\\n\\n\" + make_tree(11, 3)\n",
    "\n",
    "    # Subject\n",
    "    subject = \"Sibling Secret Santa Draw {}\".format(datetime.datetime.now().year)\n",
    "\n",
    "    print(email_body)\n",
    "    send_email([NAME_TO_EMAIL_DICT[buyer]], subject, email_body, EMAIL_USED_TO_SEND, APP_PASSWORD)\n",
    "\n",
    "# Send email of actual draw to email used to send\n",
    "send_email([EMAIL_USED_TO_SEND],\n",
    "           \"Sibling Secret Santa Real List {0}\".format(datetime.datetime.now().year),\n",
    "           \"{0}\".format(buyer_to_recipients_dict),\n",
    "           EMAIL_USED_TO_SEND, APP_PASSWORD)"
   ]
  },
  {
   "cell_type": "code",
   "execution_count": null,
   "metadata": {},
   "outputs": [],
   "source": []
  }
 ],
 "metadata": {
  "colab": {
   "collapsed_sections": [],
   "include_colab_link": true,
   "name": "Draw Names.ipynb",
   "provenance": []
  },
  "jupytext": {
   "formats": "ipynb,py:percent"
  },
  "kernelspec": {
   "display_name": "Python 3 (ipykernel)",
   "language": "python",
   "name": "python3"
  },
  "language_info": {
   "codemirror_mode": {
    "name": "ipython",
    "version": 3
   },
   "file_extension": ".py",
   "mimetype": "text/x-python",
   "name": "python",
   "nbconvert_exporter": "python",
   "pygments_lexer": "ipython3",
   "version": "3.7.12"
  },
  "toc": {
   "base_numbering": 1,
   "nav_menu": {},
   "number_sections": true,
   "sideBar": true,
   "skip_h1_title": false,
   "title_cell": "Table of Contents",
   "title_sidebar": "Contents",
   "toc_cell": false,
   "toc_position": {},
   "toc_section_display": true,
   "toc_window_display": false
  },
  "varInspector": {
   "cols": {
    "lenName": 16,
    "lenType": 16,
    "lenVar": 40
   },
   "kernels_config": {
    "python": {
     "delete_cmd_postfix": "",
     "delete_cmd_prefix": "del ",
     "library": "var_list.py",
     "varRefreshCmd": "print(var_dic_list())"
    },
    "r": {
     "delete_cmd_postfix": ") ",
     "delete_cmd_prefix": "rm(",
     "library": "var_list.r",
     "varRefreshCmd": "cat(var_dic_list()) "
    }
   },
   "types_to_exclude": [
    "module",
    "function",
    "builtin_function_or_method",
    "instance",
    "_Feature"
   ],
   "window_display": false
  }
 },
 "nbformat": 4,
 "nbformat_minor": 1
}
