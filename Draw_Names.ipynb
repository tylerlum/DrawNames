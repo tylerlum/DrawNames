{
  "nbformat": 4,
  "nbformat_minor": 0,
  "metadata": {
    "kernelspec": {
      "display_name": "Python 3",
      "language": "python",
      "name": "python3"
    },
    "language_info": {
      "codemirror_mode": {
        "name": "ipython",
        "version": 3
      },
      "file_extension": ".py",
      "mimetype": "text/x-python",
      "name": "python",
      "nbconvert_exporter": "python",
      "pygments_lexer": "ipython3",
      "version": "3.6.4"
    },
    "colab": {
      "name": "Draw Names.ipynb",
      "provenance": [],
      "collapsed_sections": [],
      "include_colab_link": true
    }
  },
  "cells": [
    {
      "cell_type": "markdown",
      "metadata": {
        "id": "view-in-github",
        "colab_type": "text"
      },
      "source": [
        "<a href=\"https://colab.research.google.com/github/tylerlum/DrawNames/blob/master/Draw_Names.ipynb\" target=\"_parent\"><img src=\"https://colab.research.google.com/assets/colab-badge.svg\" alt=\"Open In Colab\"/></a>"
      ]
    },
    {
      "cell_type": "markdown",
      "metadata": {
        "id": "SbXNYzQ1nBZw",
        "colab_type": "text"
      },
      "source": [
        "# Draw Names\n",
        "\n",
        "Customize-able Secret Santa Name List Generator\n",
        "\n",
        "The purpose of this script is to:\n",
        "\n",
        "* Assign buyers and receivers for Secret Santa events. The user can specify the number of presents that each buyer should be buying, and the program will ensure that no buyer draws the same name twice.\n",
        "\n",
        "* Send emails to all Secret Santa participants telling them who to buy a present for.\n",
        "\n",
        "* Draw a Christmas tree and include it in the email for festivity. The Christmas tree is a String of the following characters: [, ], =, ~.\n",
        "\n",
        "\n",
        "How to Use: The easiest way to use this code is to use Jupyter Notebook or Google Colab notebook. Then you can customize the email settings and names and then run all!"
      ]
    },
    {
      "cell_type": "markdown",
      "metadata": {
        "id": "Gr8bZSVpm-Ru",
        "colab_type": "text"
      },
      "source": [
        "## Dependencies and Functions\n",
        "\n"
      ]
    },
    {
      "cell_type": "code",
      "metadata": {
        "id": "WhL5kNkRm4Km",
        "colab_type": "code",
        "colab": {}
      },
      "source": [
        "import random\n",
        "from copy import deepcopy, copy\n",
        "import smtplib\n",
        "import datetime"
      ],
      "execution_count": 0,
      "outputs": []
    },
    {
      "cell_type": "markdown",
      "metadata": {
        "id": "Fs9Q8t1ynU1m",
        "colab_type": "text"
      },
      "source": [
        "### Low Level Functions for Drawing Names"
      ]
    },
    {
      "cell_type": "code",
      "metadata": {
        "id": "3W7Qe3qek1IO",
        "colab_type": "code",
        "colab": {}
      },
      "source": [
        "def remove_name_from_list(name_list, remove_name):\n",
        "    \"\"\"Return deep copy of name_list with remove_name removed\n",
        "    \n",
        "    If remove_names not in name_list, returns a deepcopy of name_list\n",
        "    \"\"\"\n",
        "    shortened_list = deepcopy(name_list)\n",
        "    if remove_name in shortened_list:\n",
        "        shortened_list.remove(remove_name)\n",
        "    return shortened_list\n",
        "\n",
        "def is_valid_assignment(recipient_by_buyer_list):\n",
        "    \"\"\"Check if assignments are valid.\n",
        "    \n",
        "    Assignments are valid if (for every buyer), (their recipients are unique, no repeats)\n",
        "    If recipient_by_buyer_list is empty, returns True\n",
        "    \"\"\"\n",
        "    for buyer in recipient_by_buyer_list[0]:\n",
        "        recipients = [recipient_by_buyer_list[i][buyer] for i in range(len(recipient_by_buyer_list))]\n",
        "        if any(recipients.count(recipient) > 1 for recipient in recipients):\n",
        "          return False\n",
        "    return True    \n",
        "\n",
        "def convert_recipient_by_buyer_list_to_recipients_by_buyer(recipient_by_buyer_list):\n",
        "    \"\"\"convert_recipient_by_buyer_list_to_recipients_by_buyer\n",
        "    list(dict(buyer, recipient)) => dict(buyer, list(recipient))\n",
        "    \n",
        "    Requires: recipient_by_buyer_list not empty\n",
        "    \"\"\"\n",
        "    ## Setup final dict and first assignment\n",
        "    recipients_by_buyer = {}\n",
        "    \n",
        "    ## Combine the recipients of each buyer\n",
        "    for buyer in recipient_by_buyer_list[0]:\n",
        "        recipients = []\n",
        "        for recipient_by_buyer in recipient_by_buyer_list:\n",
        "            recipients.append(recipient_by_buyer[buyer])\n",
        "        recipients_by_buyer[buyer] = recipients\n",
        "    return recipients_by_buyer\n",
        "    \n",
        "def get_one_new_recipient_per_buyer(recipient_by_buyer_list, full_name_list):\n",
        "    \"\"\"Create a new recipient_by_buyer, with no repeats.\n",
        "    \n",
        "    No repeats means that a buyer won't buy for the same person more than once\n",
        "    \"\"\"\n",
        "    while(True):\n",
        "        new_recipient_by_buyer = draw_names_one_recipient_per_buyer(full_name_list)\n",
        "        new_recipient_by_buyer_list = deepcopy(recipient_by_buyer_list)\n",
        "        new_recipient_by_buyer_list.append(new_recipient_by_buyer)\n",
        "        if (is_valid_assignment(new_recipient_by_buyer_list)):\n",
        "            return new_recipient_by_buyer"
      ],
      "execution_count": 0,
      "outputs": []
    },
    {
      "cell_type": "markdown",
      "metadata": {
        "id": "FPmEjmktnaqF",
        "colab_type": "text"
      },
      "source": [
        "### High Level Functions for Drawing Names"
      ]
    },
    {
      "cell_type": "code",
      "metadata": {
        "id": "I5fefJkXndPJ",
        "colab_type": "code",
        "colab": {}
      },
      "source": [
        "def try_draw_names_one_recipient_per_buyer(full_name_list, assignment_dict):\n",
        "    \"\"\"Try to assign each buyer one recipient\n",
        "    \n",
        "    Modifies assignment_dict\n",
        "    \n",
        "    Returns True if successful, otherwise returns False\n",
        "    \"\"\"\n",
        "    recipient_list = deepcopy(full_name_list)\n",
        "    \n",
        "    for buyer in full_name_list:\n",
        "        ## If no available recipients, then failed\n",
        "        available_recipients = remove_name_from_list(recipient_list, buyer)\n",
        "        if (len(available_recipients) == 0):\n",
        "            assignment_dict = {}\n",
        "            return False\n",
        "        \n",
        "        ## Get random available recipient\n",
        "        recipient = random.choice(available_recipients)\n",
        "\n",
        "        ## Remove recipient from recipient list\n",
        "        recipient_list.remove(recipient)\n",
        "\n",
        "        ## Add buyer -> recipient pair\n",
        "        assignment_dict[buyer] = recipient\n",
        "    return True\n",
        "\n",
        "def draw_names_one_recipient_per_buyer(full_name_list):\n",
        "    \"\"\"Assign each buyer one recipient\"\"\"\n",
        "    success = False\n",
        "    while (not success):\n",
        "        assignment_dict = {}\n",
        "        success = try_draw_names_one_recipient_per_buyer(full_name_list, assignment_dict)\n",
        "    return assignment_dict\n",
        "        \n",
        "def draw_names(full_name_list, recipients_per_buyer):\n",
        "    \"\"\"Assign each buyer n distinct recipients (n = recipients_per_buyer)\n",
        "    \n",
        "    Done such that each person gets n gifts.\n",
        "    \n",
        "    Requires n > 0\n",
        "    \"\"\"\n",
        "    \n",
        "    ## Check valid input\n",
        "    if recipients_per_buyer >= len(full_name_list):\n",
        "        print(\"Too many recipients per buyer\")\n",
        "        return\n",
        "    if recipients_per_buyer < 1:\n",
        "        print(\"Too few recipients per buyer\")\n",
        "        return\n",
        "\n",
        "    ## Continuously draw names, getting one more recipient per buyer each loop\n",
        "    recipient_by_buyer_list = []\n",
        "    while (len(recipient_by_buyer_list) < recipients_per_buyer):\n",
        "        new_recipient_by_buyer = get_one_new_recipient_per_buyer(recipient_by_buyer_list, full_name_list)\n",
        "        recipient_by_buyer_list.append(new_recipient_by_buyer)\n",
        "\n",
        "    ## Put Assignments together\n",
        "    recipients_by_buyer = convert_recipient_by_buyer_list_to_recipients_by_buyer(recipient_by_buyer_list)\n",
        "    \n",
        "    return recipients_by_buyer"
      ],
      "execution_count": 0,
      "outputs": []
    },
    {
      "cell_type": "markdown",
      "metadata": {
        "id": "OqDcGBocn-TE",
        "colab_type": "text"
      },
      "source": [
        "### Function for sending emails"
      ]
    },
    {
      "cell_type": "code",
      "metadata": {
        "id": "N77u5tKOk1Ic",
        "colab_type": "code",
        "colab": {}
      },
      "source": [
        "########### Sending Email ##########\n",
        "def send_email(TO, SUBJECT, BODY, USER = \"learningpython640@gmail.com\", PASSWORD = \"ilearnpython\"):\n",
        "\n",
        "    email_text = \"\"\"\\\n",
        "From: %s  \n",
        "To: %s  \n",
        "Subject: %s\n",
        "\n",
        "%s\n",
        "\"\"\" % (USER, \", \".join(TO), SUBJECT, BODY)\n",
        "\n",
        "    try:\n",
        "        server = smtplib.SMTP_SSL('smtp.gmail.com', 465)\n",
        "        server.ehlo()\n",
        "        server.login(USER, PASSWORD)\n",
        "        server.sendmail(USER, TO, email_text)\n",
        "        server.close()\n",
        "\n",
        "        print(\"Email sent\")\n",
        "    except:\n",
        "        print(\"Something went wrong\")"
      ],
      "execution_count": 0,
      "outputs": []
    },
    {
      "cell_type": "markdown",
      "metadata": {
        "id": "bu1_4XF7oIU1",
        "colab_type": "text"
      },
      "source": [
        "### Function for making trees"
      ]
    },
    {
      "cell_type": "code",
      "metadata": {
        "id": "BKl50YJsk1In",
        "colab_type": "code",
        "colab": {}
      },
      "source": [
        "def make_tree(n,s):\n",
        "    \"\"\"Returns string representing a tree\"\"\"\n",
        "    tree = \"\"\n",
        "    for i in range(n):\n",
        "        for a in range(n-i):\n",
        "            tree = tree + \" \"\n",
        "        tree = tree + \"[\"\n",
        "        ## Added reduce length to half the width (didn't look good on email)\n",
        "        reduce_length = 0\n",
        "        for l in range(i<<1):\n",
        "            if i==n-1:\n",
        "                reduce_length = reduce_length + 1\n",
        "                if reduce_length % 2 == 0:\n",
        "                    tree = tree + \"_\"\n",
        "            else:\n",
        "                reduce_length = reduce_length + 1\n",
        "                if reduce_length % 2 == 0:\n",
        "                    tree = tree + \"~\"\n",
        "        tree = tree + \"]\\n\"\n",
        "    for o in range(s):\n",
        "        for i in range(n):\n",
        "            tree = tree + \" \"\n",
        "        tree = tree + \"[]\\n\"\n",
        "    return tree"
      ],
      "execution_count": 0,
      "outputs": []
    },
    {
      "cell_type": "markdown",
      "metadata": {
        "id": "AjN9rU8F6JYD",
        "colab_type": "text"
      },
      "source": [
        "### Helper print function"
      ]
    },
    {
      "cell_type": "code",
      "metadata": {
        "id": "imdCu36Ok1Iy",
        "colab_type": "code",
        "colab": {}
      },
      "source": [
        "def show_dict(dict):\n",
        "    \"\"\"Output Dictionary Content into String\"\"\"\n",
        "    dict_output = \"\"\n",
        "    for key in dict:\n",
        "        dict_output = dict_output + \"{0}: {1}\\n\".format(key, dict[key])\n",
        "    return dict_output"
      ],
      "execution_count": 0,
      "outputs": []
    },
    {
      "cell_type": "code",
      "metadata": {
        "id": "Z7jvqBEX7ywo",
        "colab_type": "code",
        "colab": {}
      },
      "source": [
        "def str_with_ands_between(names):\n",
        "    return_value = \"\"\n",
        "    for i, name in enumerate(names):\n",
        "      return_value += name\n",
        "      if i != len(names) - 1:\n",
        "        return_value += \" and \"\n",
        "    return return_value"
      ],
      "execution_count": 0,
      "outputs": []
    },
    {
      "cell_type": "markdown",
      "metadata": {
        "id": "mrxEwSLvzoZg",
        "colab_type": "text"
      },
      "source": [
        "## Testing"
      ]
    },
    {
      "cell_type": "markdown",
      "metadata": {
        "id": "ASVVOdN55Lk3",
        "colab_type": "text"
      },
      "source": [
        "### Testing Methods"
      ]
    },
    {
      "cell_type": "code",
      "metadata": {
        "id": "KN6BuJELzn7D",
        "colab_type": "code",
        "colab": {}
      },
      "source": [
        "def is_valid_drawn_names(recipients_by_buyer, recipients_per_buyer):\n",
        "    return (buyer_has_unique_recipients(recipients_by_buyer) and each_person_gets_equal_number_of_gifts(recipients_by_buyer, recipients_per_buyer)\n",
        "            and each_buyer_buys_correct_number_of_gifts(recipients_by_buyer, recipients_per_buyer) and no_buyer_buys_for_themselves(recipients_by_buyer))\n",
        "  \n",
        "def buyer_has_unique_recipients(recipients_by_buyer):\n",
        "    for buyer, recipients in recipients_by_buyer.items():\n",
        "        if any(recipients.count(recipient) > 1 for recipient in recipients):\n",
        "            return False\n",
        "    return True\n",
        "\n",
        "  \n",
        "def each_person_gets_equal_number_of_gifts(recipients_by_buyer, recipients_per_buyer):\n",
        "    names = recipients_by_buyer.keys()\n",
        "    for name in names:\n",
        "        num_gifts = 0\n",
        "        for buyer, recipients in recipients_by_buyer.items():\n",
        "            if name in recipients:\n",
        "                num_gifts += 1\n",
        "        if not num_gifts == recipients_per_buyer:\n",
        "          return False\n",
        "    return True\n",
        "  \n",
        "def each_buyer_buys_correct_number_of_gifts(recipients_by_buyer, recipients_per_buyer):\n",
        "    for buyer, recipients in recipients_by_buyer.items():\n",
        "        if not len(recipients) == recipients_per_buyer:\n",
        "            return False\n",
        "    return True\n",
        "\n",
        "def no_buyer_buys_for_themselves(recipients_by_buyer):\n",
        "    for buyer in recipients_by_buyer:\n",
        "        if buyer in recipients_by_buyer[buyer]:\n",
        "            return False\n",
        "    return True"
      ],
      "execution_count": 0,
      "outputs": []
    },
    {
      "cell_type": "markdown",
      "metadata": {
        "id": "HtuVziko2uSm",
        "colab_type": "text"
      },
      "source": [
        "### Run Validation Tests"
      ]
    },
    {
      "cell_type": "code",
      "metadata": {
        "id": "wXjV9BEK2t9Y",
        "colab_type": "code",
        "colab": {
          "base_uri": "https://localhost:8080/",
          "height": 34
        },
        "outputId": "b673b60e-b801-4818-a89d-fe8d6c8a09fd"
      },
      "source": [
        "TEST_NUM_TESTS = 20\n",
        "TEST_NAMES = ['Ben', 'Aaron', 'Joel', 'Angela', 'Zoe', 'Ken']\n",
        "TEST_RECIPIENTS_PER_BUYER_MIN = 1\n",
        "TEST_RECIPIENTS_PER_BUYER_MAX = 4\n",
        "passed = True\n",
        "for recipients_per_buyer in range(TEST_RECIPIENTS_PER_BUYER_MIN, TEST_RECIPIENTS_PER_BUYER_MAX):\n",
        "    for test_num in range(TEST_NUM_TESTS):\n",
        "        test_results = draw_names(TEST_NAMES, recipients_per_buyer)\n",
        "        if not is_valid_drawn_names(test_results, recipients_per_buyer):\n",
        "            passed = False\n",
        "            print(\"FAILED TEST {0} with {1} recipients_per_buyer.\".format(test_num, recipients_per_buyer))\n",
        "            \n",
        "if passed:\n",
        "    print(\"Passed {0} tests :)\".format(TEST_NUM_TESTS * (TEST_RECIPIENTS_PER_BUYER_MAX - TEST_RECIPIENTS_PER_BUYER_MIN + 1)))"
      ],
      "execution_count": 9,
      "outputs": [
        {
          "output_type": "stream",
          "text": [
            "Passed 80 tests :)\n"
          ],
          "name": "stdout"
        }
      ]
    },
    {
      "cell_type": "markdown",
      "metadata": {
        "id": "_eqqPVSM4gX6",
        "colab_type": "text"
      },
      "source": [
        "## Example Usage"
      ]
    },
    {
      "cell_type": "code",
      "metadata": {
        "id": "KOr58qgo5c1e",
        "colab_type": "code",
        "colab": {
          "base_uri": "https://localhost:8080/",
          "height": 89
        },
        "outputId": "8f62b922-7a47-4422-860f-80ddafafb364"
      },
      "source": [
        "EXAMPLE_NAMES = ['Ben', 'Aaron', 'Joel', 'Angela', 'Zoe', 'Ken']\n",
        "EXAMPLE_RECIPIENTS_PER_BUYER = 3\n",
        "\n",
        "EXAMPLE_RECIPIENTS_BY_BUYER = draw_names(EXAMPLE_NAMES, EXAMPLE_RECIPIENTS_PER_BUYER)\n",
        "\n",
        "print(\"Example drawn names: {}\\n\".format(EXAMPLE_RECIPIENTS_BY_BUYER))\n",
        "print(\"Is this a valid assignment? {}\".format(is_valid_drawn_names(EXAMPLE_RECIPIENTS_BY_BUYER, EXAMPLE_RECIPIENTS_PER_BUYER)))"
      ],
      "execution_count": 10,
      "outputs": [
        {
          "output_type": "stream",
          "text": [
            "Example drawn names: {'Ben': ['Ken', 'Zoe', 'Joel'], 'Aaron': ['Zoe', 'Ben', 'Ken'], 'Joel': ['Aaron', 'Angela', 'Ben'], 'Angela': ['Ben', 'Joel', 'Zoe'], 'Zoe': ['Angela', 'Ken', 'Aaron'], 'Ken': ['Joel', 'Aaron', 'Angela']}\n",
            "\n",
            "Is this a valid assignment? True\n"
          ],
          "name": "stdout"
        }
      ]
    },
    {
      "cell_type": "markdown",
      "metadata": {
        "id": "SHoNnMZzmrjQ",
        "colab_type": "text"
      },
      "source": [
        "## Main Program\n",
        "\n",
        "Steps:\n",
        "\n",
        "1. Fill in EMAILS_BY_NAME and NICKNAMES_BY_NAME\n",
        "\n",
        "2. Fill in RECIPIENTS_PER_BUYER\n",
        "\n",
        "Run both cells"
      ]
    },
    {
      "cell_type": "code",
      "metadata": {
        "id": "uELDFFEcqjXS",
        "colab_type": "code",
        "colab": {
          "base_uri": "https://localhost:8080/",
          "height": 69
        },
        "outputId": "624ab317-37b8-4c40-dc05-f237d2b4787e"
      },
      "source": [
        "## Setup emails and names\n",
        "EMAILS_BY_NAME = {\"Tyler\": \"tylergwlum@gmail.com\", 'ExampleName' : \"example@email.com\"}\n",
        "NICKNAMES_BY_NAME = {\"Tyler\": \"Tygertron\", 'ExampleName' : 'Cookiedude'}\n",
        "NAMES = list(EMAILS_BY_NAME.keys())\n",
        "RECIPIENTS_PER_BUYER = 1\n",
        "\n",
        "## Get assignment\n",
        "recipients_by_buyer = draw_names(NAMES, RECIPIENTS_PER_BUYER)\n",
        "print(\"Names have been drawn!\\n\")\n",
        "print(\"Is this a valid assignment? {}\".format(is_valid_drawn_names(recipients_by_buyer, RECIPIENTS_PER_BUYER)))"
      ],
      "execution_count": 12,
      "outputs": [
        {
          "output_type": "stream",
          "text": [
            "Names have been drawn!\n",
            "\n",
            "Is this a valid assignment? True\n"
          ],
          "name": "stdout"
        }
      ]
    },
    {
      "cell_type": "code",
      "metadata": {
        "id": "ZTw1dG-l_xVb",
        "colab_type": "code",
        "colab": {
          "base_uri": "https://localhost:8080/",
          "height": 34
        },
        "outputId": "1089ec0a-eca7-47e5-b6db-9af588f05605"
      },
      "source": [
        "print(recipients_per_buyer)"
      ],
      "execution_count": 11,
      "outputs": [
        {
          "output_type": "stream",
          "text": [
            "3\n"
          ],
          "name": "stdout"
        }
      ]
    },
    {
      "cell_type": "code",
      "metadata": {
        "id": "Jj_Nx8RVk1I9",
        "colab_type": "code",
        "colab": {}
      },
      "source": [
        "## Send emails\n",
        "for buyer in recipients_by_buyer:\n",
        "    recipients = recipients_by_buyer[buyer]\n",
        "    \n",
        "    ## Get nicknames\n",
        "    buyer_nickname = NICKNAMES_BY_NAME[buyer]\n",
        "    recipient_nicknames = [NICKNAMES_BY_NAME[recipient] for recipient in recipients]\n",
        "    \n",
        "    ## Write email body\n",
        "    email_body = \"Hi {0}! You will be buying a lovely present for: {1}. :)\".format(buyer_nickname, str_with_ands_between(recipient_nicknames))    \n",
        "    \n",
        "    ## From statement\n",
        "    email_body = email_body + \"\\n\\n-Tyler Bot\"\n",
        "    \n",
        "    ## Nickname explanation\n",
        "    email_body = email_body + \"\\n\\nNICKNAMES:\\n{0}\".format(show_dict(NICKNAMES_BY_NAME))\n",
        "    \n",
        "    ## Add tree\n",
        "    email_body = email_body + \"\\n\\n\" + make_tree(11, 3)\n",
        "    \n",
        "    ## Subject\n",
        "    subject = \"Sibling Secret Santa Draw {}\".format(datetime.datetime.now().year)\n",
        "\n",
        "    print(email_body)\n",
        "    send_email([EMAILS_BY_NAME[buyer]], subject, email_body)\n",
        "    \n",
        "## Send email of actual draw to hidden email\n",
        "send_email([\"learningpython640@gmail.com\"], \"Sibling Secret Santa Real List {0}\", \"{1}\".format(datetime.datetime.now().year, recipients_by_buyer))"
      ],
      "execution_count": 0,
      "outputs": []
    }
  ]
}