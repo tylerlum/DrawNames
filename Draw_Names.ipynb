{
 "cells": [
  {
   "cell_type": "markdown",
   "metadata": {
    "colab_type": "text",
    "id": "view-in-github"
   },
   "source": [
    "<a href=\"https://colab.research.google.com/github/tylerlum/DrawNames/blob/master/Draw_Names.ipynb\" target=\"_parent\"><img src=\"https://colab.research.google.com/assets/colab-badge.svg\" alt=\"Open In Colab\"/></a>"
   ]
  },
  {
   "cell_type": "markdown",
   "metadata": {
    "colab_type": "text",
    "id": "SbXNYzQ1nBZw"
   },
   "source": [
    "# Draw Names\n",
    "\n",
    "Customize-able Secret Santa Name List Generator\n",
    "\n",
    "The purpose of this script is to:\n",
    "\n",
    "* Assign buyers and receivers for Secret Santa events. The user can specify the number of presents that each buyer should be buying, and the program will ensure that no buyer draws the same name twice.\n",
    "\n",
    "* Send emails to all Secret Santa participants telling them who to buy a present for.\n",
    "\n",
    "* Draw a Christmas tree and include it in the email for festivity. The Christmas tree is a String of the following characters: [, ], =, ~.\n",
    "\n",
    "\n",
    "How to Use: The easiest way to use this code is to use Jupyter Notebook or Google Colab notebook. Then you can customize the email settings and names and then run all!"
   ]
  },
  {
   "cell_type": "markdown",
   "metadata": {
    "colab_type": "text",
    "id": "Gr8bZSVpm-Ru"
   },
   "source": [
    "## Dependencies and Functions\n",
    "\n"
   ]
  },
  {
   "cell_type": "code",
   "execution_count": 1,
   "metadata": {
    "ExecuteTime": {
     "end_time": "2022-11-01T07:39:06.186579Z",
     "start_time": "2022-11-01T07:39:06.175431Z"
    },
    "colab": {},
    "colab_type": "code",
    "id": "WhL5kNkRm4Km"
   },
   "outputs": [],
   "source": [
    "import random\n",
    "from copy import deepcopy\n",
    "import smtplib\n",
    "import datetime"
   ]
  },
  {
   "cell_type": "markdown",
   "metadata": {
    "colab_type": "text",
    "id": "Fs9Q8t1ynU1m"
   },
   "source": [
    "### Low Level Functions for Drawing Names"
   ]
  },
  {
   "cell_type": "code",
   "execution_count": 2,
   "metadata": {
    "ExecuteTime": {
     "end_time": "2022-11-01T07:39:06.200364Z",
     "start_time": "2022-11-01T07:39:06.190317Z"
    },
    "colab": {},
    "colab_type": "code",
    "id": "3W7Qe3qek1IO"
   },
   "outputs": [],
   "source": [
    "def remove_name_from_list(name_list, remove_name):\n",
    "    \"\"\"Return deep copy of name_list with remove_name removed\n",
    "\n",
    "    If remove_names not in name_list, returns a copy of name_list\n",
    "    \"\"\"\n",
    "    return [name for name in name_list if name != remove_name]\n",
    "\n",
    "\n",
    "def is_valid_assignment(recipient_by_buyer_list):\n",
    "    \"\"\"Check if assignments are valid.\n",
    "\n",
    "    Assignments are valid if (for every buyer), (their recipients are unique, no repeats)\n",
    "    If recipient_by_buyer_list is empty, returns True\n",
    "    \"\"\"\n",
    "    for buyer in recipient_by_buyer_list[0]:\n",
    "        recipients = [recipient_by_buyer_list[i][buyer] for i in range(len(recipient_by_buyer_list))]\n",
    "        if any(recipients.count(recipient) > 1 for recipient in recipients):\n",
    "            return False\n",
    "    return True\n",
    "\n",
    "\n",
    "def convert_recipient_by_buyer_list_to_recipients_by_buyer(recipient_by_buyer_list):\n",
    "    \"\"\"convert_recipient_by_buyer_list_to_recipients_by_buyer\n",
    "    list(dict(buyer, recipient)) => dict(buyer, list(recipient))\n",
    "\n",
    "    Requires: recipient_by_buyer_list not empty\n",
    "    \"\"\"\n",
    "    # Setup final dict and first assignment\n",
    "    recipients_by_buyer = {}\n",
    "\n",
    "    # Combine the recipients of each buyer\n",
    "    for buyer in recipient_by_buyer_list[0]:\n",
    "        recipients_by_buyer[buyer] = [recipient_by_buyer[buyer] for recipient_by_buyer in recipient_by_buyer_list]\n",
    "    return recipients_by_buyer\n",
    "\n",
    "\n",
    "def get_one_new_recipient_per_buyer(recipient_by_buyer_list, full_name_list):\n",
    "    \"\"\"Create a new recipient_by_buyer, with no repeats.\n",
    "\n",
    "    No repeats means that a buyer won't buy for the same person more than once\n",
    "    \"\"\"\n",
    "    while(True):\n",
    "        new_recipient_by_buyer = draw_names_one_recipient_per_buyer(full_name_list)\n",
    "        new_recipient_by_buyer_list = deepcopy(recipient_by_buyer_list)\n",
    "        new_recipient_by_buyer_list.append(new_recipient_by_buyer)\n",
    "        if (is_valid_assignment(new_recipient_by_buyer_list)):\n",
    "            return new_recipient_by_buyer"
   ]
  },
  {
   "cell_type": "markdown",
   "metadata": {
    "colab_type": "text",
    "id": "FPmEjmktnaqF"
   },
   "source": [
    "### High Level Functions for Drawing Names"
   ]
  },
  {
   "cell_type": "code",
   "execution_count": 3,
   "metadata": {
    "ExecuteTime": {
     "end_time": "2022-11-01T07:39:06.208417Z",
     "start_time": "2022-11-01T07:39:06.202443Z"
    },
    "colab": {},
    "colab_type": "code",
    "id": "I5fefJkXndPJ"
   },
   "outputs": [],
   "source": [
    "def try_draw_names_one_recipient_per_buyer(full_name_list, assignment_dict):\n",
    "    \"\"\"Try to assign each buyer one recipient\n",
    "\n",
    "    Modifies assignment_dict\n",
    "\n",
    "    Returns True if successful, otherwise returns False\n",
    "    \"\"\"\n",
    "    recipient_list = list(full_name_list)\n",
    "\n",
    "    for buyer in full_name_list:\n",
    "        # If no available recipients, then failed\n",
    "        available_recipients = remove_name_from_list(recipient_list, buyer)\n",
    "        if (len(available_recipients) == 0):\n",
    "            assignment_dict = {}\n",
    "            return False\n",
    "\n",
    "        # Get random available recipient\n",
    "        recipient = random.choice(available_recipients)\n",
    "\n",
    "        # Remove recipient from recipient list\n",
    "        recipient_list.remove(recipient)\n",
    "\n",
    "        # Add buyer -> recipient pair\n",
    "        assignment_dict[buyer] = recipient\n",
    "    return True\n",
    "\n",
    "\n",
    "def draw_names_one_recipient_per_buyer(full_name_list):\n",
    "    \"\"\"Assign each buyer one recipient\"\"\"\n",
    "    success = False\n",
    "    while (not success):\n",
    "        assignment_dict = {}\n",
    "        success = try_draw_names_one_recipient_per_buyer(full_name_list, assignment_dict)\n",
    "    return assignment_dict\n",
    "\n",
    "\n",
    "def draw_names(full_name_list, recipients_per_buyer):\n",
    "    \"\"\"Assign each buyer n distinct recipients (n = recipients_per_buyer)\n",
    "\n",
    "    Done such that each person gets n gifts.\n",
    "\n",
    "    Requires n > 0\n",
    "    \"\"\"\n",
    "\n",
    "    # Check valid input\n",
    "    if recipients_per_buyer >= len(full_name_list):\n",
    "        print(\"Too many recipients per buyer\")\n",
    "        return\n",
    "    if recipients_per_buyer < 1:\n",
    "        print(\"Too few recipients per buyer\")\n",
    "        return\n",
    "\n",
    "    # Continuously draw names, getting one more recipient per buyer each loop\n",
    "    recipient_by_buyer_list = []\n",
    "    while (len(recipient_by_buyer_list) < recipients_per_buyer):\n",
    "        new_recipient_by_buyer = get_one_new_recipient_per_buyer(recipient_by_buyer_list, full_name_list)\n",
    "        recipient_by_buyer_list.append(new_recipient_by_buyer)\n",
    "\n",
    "    # Put Assignments together\n",
    "    recipients_by_buyer = convert_recipient_by_buyer_list_to_recipients_by_buyer(recipient_by_buyer_list)\n",
    "\n",
    "    return recipients_by_buyer"
   ]
  },
  {
   "cell_type": "markdown",
   "metadata": {
    "colab_type": "text",
    "id": "OqDcGBocn-TE"
   },
   "source": [
    "### Function for sending emails"
   ]
  },
  {
   "cell_type": "code",
   "execution_count": 4,
   "metadata": {
    "ExecuteTime": {
     "end_time": "2022-11-01T07:39:06.213865Z",
     "start_time": "2022-11-01T07:39:06.210153Z"
    },
    "colab": {},
    "colab_type": "code",
    "id": "N77u5tKOk1Ic"
   },
   "outputs": [],
   "source": [
    "########### Sending Email ##########\n",
    "def send_email(TO, SUBJECT, BODY, USER, PASSWORD):\n",
    "\n",
    "    email_text = \"\"\"\\\n",
    "From: %s  \n",
    "To: %s  \n",
    "Subject: %s\n",
    "\n",
    "%s\n",
    "\"\"\" % (USER, \", \".join(TO), SUBJECT, BODY)\n",
    "\n",
    "    try:\n",
    "        server = smtplib.SMTP_SSL('smtp.gmail.com', 465)\n",
    "        server.ehlo()\n",
    "        server.login(USER, PASSWORD)\n",
    "        server.sendmail(USER, TO, email_text)\n",
    "        server.close()\n",
    "\n",
    "        print(\"Email sent\")\n",
    "    except Exception as e:\n",
    "        print(\"Something went wrong\")\n",
    "        print(e)"
   ]
  },
  {
   "cell_type": "markdown",
   "metadata": {
    "colab_type": "text",
    "id": "bu1_4XF7oIU1"
   },
   "source": [
    "### Function for making trees"
   ]
  },
  {
   "cell_type": "code",
   "execution_count": 5,
   "metadata": {
    "ExecuteTime": {
     "end_time": "2022-11-01T07:39:06.218796Z",
     "start_time": "2022-11-01T07:39:06.214978Z"
    },
    "colab": {},
    "colab_type": "code",
    "id": "BKl50YJsk1In"
   },
   "outputs": [],
   "source": [
    "def make_tree(n, s):\n",
    "    \"\"\"Returns string representing a tree\"\"\"\n",
    "    tree = \"\"\n",
    "    for i in range(n):\n",
    "        for a in range(n-i):\n",
    "            tree = tree + \" \"\n",
    "        tree = tree + \"[\"\n",
    "        # Added reduce length to half the width (didn't look good on email)\n",
    "        reduce_length = 0\n",
    "        for l in range(i << 1):\n",
    "            if i == n-1:\n",
    "                reduce_length = reduce_length + 1\n",
    "                if reduce_length % 2 == 0:\n",
    "                    tree = tree + \"_\"\n",
    "            else:\n",
    "                reduce_length = reduce_length + 1\n",
    "                if reduce_length % 2 == 0:\n",
    "                    tree = tree + \"~\"\n",
    "        tree = tree + \"]\\n\"\n",
    "    for o in range(s):\n",
    "        for i in range(n):\n",
    "            tree = tree + \" \"\n",
    "        tree = tree + \"[]\\n\"\n",
    "    return tree"
   ]
  },
  {
   "cell_type": "markdown",
   "metadata": {
    "colab_type": "text",
    "id": "AjN9rU8F6JYD"
   },
   "source": [
    "### Helper print function"
   ]
  },
  {
   "cell_type": "code",
   "execution_count": 6,
   "metadata": {
    "ExecuteTime": {
     "end_time": "2022-11-01T07:39:06.221934Z",
     "start_time": "2022-11-01T07:39:06.219703Z"
    },
    "colab": {},
    "colab_type": "code",
    "id": "imdCu36Ok1Iy"
   },
   "outputs": [],
   "source": [
    "def show_dict(dict):\n",
    "    \"\"\"Output Dictionary Content into String\"\"\"\n",
    "    dict_output = \"\"\n",
    "    for key in dict:\n",
    "        dict_output = dict_output + \"{0}: {1}\\n\".format(key, dict[key])\n",
    "    return dict_output"
   ]
  },
  {
   "cell_type": "code",
   "execution_count": 7,
   "metadata": {
    "ExecuteTime": {
     "end_time": "2022-11-01T07:39:06.224913Z",
     "start_time": "2022-11-01T07:39:06.222739Z"
    },
    "colab": {},
    "colab_type": "code",
    "id": "Z7jvqBEX7ywo"
   },
   "outputs": [],
   "source": [
    "def str_with_ands_between(names):\n",
    "    return_value = \"\"\n",
    "    for i, name in enumerate(names):\n",
    "        return_value += name\n",
    "        if i != len(names) - 1:\n",
    "            return_value += \" and \"\n",
    "    return return_value"
   ]
  },
  {
   "cell_type": "markdown",
   "metadata": {
    "colab_type": "text",
    "id": "mrxEwSLvzoZg"
   },
   "source": [
    "## Testing"
   ]
  },
  {
   "cell_type": "markdown",
   "metadata": {
    "colab_type": "text",
    "id": "ASVVOdN55Lk3"
   },
   "source": [
    "### Testing Methods"
   ]
  },
  {
   "cell_type": "code",
   "execution_count": 8,
   "metadata": {
    "ExecuteTime": {
     "end_time": "2022-11-01T07:39:06.230902Z",
     "start_time": "2022-11-01T07:39:06.225749Z"
    },
    "colab": {},
    "colab_type": "code",
    "id": "KN6BuJELzn7D"
   },
   "outputs": [],
   "source": [
    "def is_valid_drawn_names(recipients_by_buyer, recipients_per_buyer):\n",
    "    return (buyer_has_unique_recipients(recipients_by_buyer) and each_person_gets_equal_number_of_gifts(recipients_by_buyer, recipients_per_buyer)\n",
    "            and each_buyer_buys_correct_number_of_gifts(recipients_by_buyer, recipients_per_buyer) and no_buyer_buys_for_themselves(recipients_by_buyer))\n",
    "\n",
    "\n",
    "def buyer_has_unique_recipients(recipients_by_buyer):\n",
    "    for buyer, recipients in recipients_by_buyer.items():\n",
    "        if any(recipients.count(recipient) > 1 for recipient in recipients):\n",
    "            return False\n",
    "    return True\n",
    "\n",
    "\n",
    "def each_person_gets_equal_number_of_gifts(recipients_by_buyer, recipients_per_buyer):\n",
    "    names = recipients_by_buyer.keys()\n",
    "    for name in names:\n",
    "        num_gifts = 0\n",
    "        for buyer, recipients in recipients_by_buyer.items():\n",
    "            if name in recipients:\n",
    "                num_gifts += 1\n",
    "        if not num_gifts == recipients_per_buyer:\n",
    "            return False\n",
    "    return True\n",
    "\n",
    "\n",
    "def each_buyer_buys_correct_number_of_gifts(recipients_by_buyer, recipients_per_buyer):\n",
    "    for buyer, recipients in recipients_by_buyer.items():\n",
    "        if not len(recipients) == recipients_per_buyer:\n",
    "            return False\n",
    "    return True\n",
    "\n",
    "\n",
    "def no_buyer_buys_for_themselves(recipients_by_buyer):\n",
    "    for buyer in recipients_by_buyer:\n",
    "        if buyer in recipients_by_buyer[buyer]:\n",
    "            return False\n",
    "    return True"
   ]
  },
  {
   "cell_type": "markdown",
   "metadata": {
    "colab_type": "text",
    "id": "HtuVziko2uSm"
   },
   "source": [
    "### Run Validation Tests"
   ]
  },
  {
   "cell_type": "code",
   "execution_count": 9,
   "metadata": {
    "ExecuteTime": {
     "end_time": "2022-11-01T07:39:06.249235Z",
     "start_time": "2022-11-01T07:39:06.233108Z"
    },
    "colab": {
     "base_uri": "https://localhost:8080/",
     "height": 34
    },
    "colab_type": "code",
    "id": "wXjV9BEK2t9Y",
    "outputId": "b673b60e-b801-4818-a89d-fe8d6c8a09fd"
   },
   "outputs": [
    {
     "name": "stdout",
     "output_type": "stream",
     "text": [
      "Passed 80 tests :)\n"
     ]
    }
   ],
   "source": [
    "TEST_NUM_TESTS = 20\n",
    "TEST_NAMES = ['Ben', 'Aaron', 'Joel', 'Angela', 'Zoe', 'Ken']\n",
    "TEST_RECIPIENTS_PER_BUYER_MIN = 1\n",
    "TEST_RECIPIENTS_PER_BUYER_MAX = 4\n",
    "passed = True\n",
    "for recipients_per_buyer in range(TEST_RECIPIENTS_PER_BUYER_MIN, TEST_RECIPIENTS_PER_BUYER_MAX):\n",
    "    for test_num in range(TEST_NUM_TESTS):\n",
    "        test_results = draw_names(TEST_NAMES, recipients_per_buyer)\n",
    "        if not is_valid_drawn_names(test_results, recipients_per_buyer):\n",
    "            passed = False\n",
    "            print(\"FAILED TEST {0} with {1} recipients_per_buyer.\".format(test_num, recipients_per_buyer))\n",
    "\n",
    "if passed:\n",
    "    print(\"Passed {0} tests :)\".format(TEST_NUM_TESTS *\n",
    "          (TEST_RECIPIENTS_PER_BUYER_MAX - TEST_RECIPIENTS_PER_BUYER_MIN + 1)))"
   ]
  },
  {
   "cell_type": "markdown",
   "metadata": {
    "colab_type": "text",
    "id": "_eqqPVSM4gX6"
   },
   "source": [
    "## Example Usage"
   ]
  },
  {
   "cell_type": "code",
   "execution_count": 10,
   "metadata": {
    "ExecuteTime": {
     "end_time": "2022-11-01T07:39:06.253984Z",
     "start_time": "2022-11-01T07:39:06.250236Z"
    },
    "colab": {
     "base_uri": "https://localhost:8080/",
     "height": 89
    },
    "colab_type": "code",
    "id": "KOr58qgo5c1e",
    "outputId": "8f62b922-7a47-4422-860f-80ddafafb364"
   },
   "outputs": [
    {
     "name": "stdout",
     "output_type": "stream",
     "text": [
      "Example drawn names: {'Ben': ['Ken', 'Aaron', 'Angela'], 'Aaron': ['Ben', 'Zoe', 'Joel'], 'Joel': ['Aaron', 'Ken', 'Zoe'], 'Angela': ['Joel', 'Ben', 'Ken'], 'Zoe': ['Angela', 'Joel', 'Aaron'], 'Ken': ['Zoe', 'Angela', 'Ben']}\n",
      "\n",
      "Is this a valid assignment? True\n"
     ]
    }
   ],
   "source": [
    "EXAMPLE_NAMES = ['Ben', 'Aaron', 'Joel', 'Angela', 'Zoe', 'Ken']\n",
    "EXAMPLE_RECIPIENTS_PER_BUYER = 3\n",
    "\n",
    "EXAMPLE_RECIPIENTS_BY_BUYER = draw_names(EXAMPLE_NAMES, EXAMPLE_RECIPIENTS_PER_BUYER)\n",
    "\n",
    "print(\"Example drawn names: {}\\n\".format(EXAMPLE_RECIPIENTS_BY_BUYER))\n",
    "print(\"Is this a valid assignment? {}\".format(is_valid_drawn_names(\n",
    "    EXAMPLE_RECIPIENTS_BY_BUYER, EXAMPLE_RECIPIENTS_PER_BUYER)))"
   ]
  },
  {
   "cell_type": "markdown",
   "metadata": {
    "colab_type": "text",
    "id": "SHoNnMZzmrjQ"
   },
   "source": [
    "## Main Program\n",
    "\n",
    "Steps:\n",
    "\n",
    "1. Fill in EMAILS_BY_NAME and NICKNAMES_BY_NAME\n",
    "\n",
    "2. Fill in RECIPIENTS_PER_BUYER\n",
    "\n",
    "Run both cells"
   ]
  },
  {
   "cell_type": "code",
   "execution_count": null,
   "metadata": {
    "ExecuteTime": {
     "end_time": "2022-11-01T07:36:09.871814Z",
     "start_time": "2022-11-01T07:35:58.111646Z"
    },
    "colab": {
     "base_uri": "https://localhost:8080/",
     "height": 69
    },
    "colab_type": "code",
    "id": "uELDFFEcqjXS",
    "outputId": "624ab317-37b8-4c40-dc05-f237d2b4787e"
   },
   "outputs": [],
   "source": [
    "# Setup emails and names\n",
    "EMAILS_BY_NAME = {\"Tyler\": \"tylergwlum@gmail.com\",\n",
    "                  'OtherTyler': \"pythoncoderdude@gmail.com\",}\n",
    "NICKNAMES_BY_NAME = {\"Tyler\": \"Tygertron\",\n",
    "                     'OtherTyler': 'SwoleDude',}\n",
    "EMAIL_USED_TO_SEND = \"pythoncoderdude@gmail.com\"\n",
    "APP_PASSWORD = input(\"Enter the app password for {0}\".format(EMAIL_USED_TO_SEND))\n",
    "NAMES = list(EMAILS_BY_NAME.keys())\n",
    "RECIPIENTS_PER_BUYER = 1\n",
    "\n",
    "# Get assignment\n",
    "recipients_by_buyer = draw_names(NAMES, RECIPIENTS_PER_BUYER)\n",
    "print(\"Names have been drawn!\\n\")\n",
    "print(\"Is this a valid assignment? {}\".format(is_valid_drawn_names(recipients_by_buyer, RECIPIENTS_PER_BUYER)))"
   ]
  },
  {
   "cell_type": "code",
   "execution_count": null,
   "metadata": {
    "ExecuteTime": {
     "end_time": "2022-11-01T07:31:27.386662Z",
     "start_time": "2022-11-01T07:31:23.550664Z"
    },
    "colab": {},
    "colab_type": "code",
    "id": "Jj_Nx8RVk1I9"
   },
   "outputs": [],
   "source": [
    "# Send emails\n",
    "for buyer in recipients_by_buyer:\n",
    "    recipients = recipients_by_buyer[buyer]\n",
    "\n",
    "    # Get nicknames\n",
    "    buyer_nickname = NICKNAMES_BY_NAME[buyer]\n",
    "    recipient_nicknames = [NICKNAMES_BY_NAME[recipient] for recipient in recipients]\n",
    "\n",
    "    # Write email body\n",
    "    email_body = \"Hi {0}! You will be buying a lovely present for: {1}. :)\".format(\n",
    "        buyer_nickname, str_with_ands_between(recipient_nicknames))\n",
    "\n",
    "    # From statement\n",
    "    email_body = email_body + \"\\n\\n-Tyler Bot\"\n",
    "\n",
    "    # Nickname explanation\n",
    "    email_body = email_body + \"\\n\\nNICKNAMES:\\n{0}\".format(show_dict(NICKNAMES_BY_NAME))\n",
    "\n",
    "    # Add tree\n",
    "    email_body = email_body + \"\\n\\n\" + make_tree(11, 3)\n",
    "\n",
    "    # Subject\n",
    "    subject = \"Sibling Secret Santa Draw {}\".format(datetime.datetime.now().year)\n",
    "\n",
    "    print(email_body)\n",
    "    send_email([EMAILS_BY_NAME[buyer]], subject, email_body, EMAIL_USED_TO_SEND, APP_PASSWORD)\n",
    "\n",
    "# Send email of actual draw to hidden email\n",
    "send_email([\"pythoncoderdude@gmail.com\"],\n",
    "           \"Sibling Secret Santa Real List {0}\".format(datetime.datetime.now().year),\n",
    "           \"{0}\".format(recipients_by_buyer),\n",
    "           EMAIL_USED_TO_SEND, APP_PASSWORD)"
   ]
  },
  {
   "cell_type": "code",
   "execution_count": null,
   "metadata": {},
   "outputs": [],
   "source": []
  }
 ],
 "metadata": {
  "colab": {
   "collapsed_sections": [],
   "include_colab_link": true,
   "name": "Draw Names.ipynb",
   "provenance": []
  },
  "jupytext": {
   "formats": "ipynb,py:percent"
  },
  "kernelspec": {
   "display_name": "Python 3 (ipykernel)",
   "language": "python",
   "name": "python3"
  },
  "language_info": {
   "codemirror_mode": {
    "name": "ipython",
    "version": 3
   },
   "file_extension": ".py",
   "mimetype": "text/x-python",
   "name": "python",
   "nbconvert_exporter": "python",
   "pygments_lexer": "ipython3",
   "version": "3.7.12"
  },
  "toc": {
   "base_numbering": 1,
   "nav_menu": {},
   "number_sections": true,
   "sideBar": true,
   "skip_h1_title": false,
   "title_cell": "Table of Contents",
   "title_sidebar": "Contents",
   "toc_cell": false,
   "toc_position": {},
   "toc_section_display": true,
   "toc_window_display": false
  },
  "varInspector": {
   "cols": {
    "lenName": 16,
    "lenType": 16,
    "lenVar": 40
   },
   "kernels_config": {
    "python": {
     "delete_cmd_postfix": "",
     "delete_cmd_prefix": "del ",
     "library": "var_list.py",
     "varRefreshCmd": "print(var_dic_list())"
    },
    "r": {
     "delete_cmd_postfix": ") ",
     "delete_cmd_prefix": "rm(",
     "library": "var_list.r",
     "varRefreshCmd": "cat(var_dic_list()) "
    }
   },
   "types_to_exclude": [
    "module",
    "function",
    "builtin_function_or_method",
    "instance",
    "_Feature"
   ],
   "window_display": false
  }
 },
 "nbformat": 4,
 "nbformat_minor": 1
}
